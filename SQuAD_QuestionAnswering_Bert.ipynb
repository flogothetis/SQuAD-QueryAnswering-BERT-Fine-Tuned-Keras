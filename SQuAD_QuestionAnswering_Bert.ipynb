{
  "nbformat": 4,
  "nbformat_minor": 0,
  "metadata": {
    "colab": {
      "name": "SQuAD-QuestionAnswering-Bert.ipynb",
      "provenance": [],
      "collapsed_sections": [],
      "mount_file_id": "1B0lt_z9hUTszLoqB_AvQvCesKK8B76wE",
      "authorship_tag": "ABX9TyNIq/el/5U7gmwGu3dlOa9+",
      "include_colab_link": true
    },
    "kernelspec": {
      "name": "python3",
      "display_name": "Python 3"
    },
    "accelerator": "TPU",
    "widgets": {
      "application/vnd.jupyter.widget-state+json": {
        "68c8902ba6c944baa02baf95381c2603": {
          "model_module": "@jupyter-widgets/controls",
          "model_name": "HBoxModel",
          "state": {
            "_view_name": "HBoxView",
            "_dom_classes": [],
            "_model_name": "HBoxModel",
            "_view_module": "@jupyter-widgets/controls",
            "_model_module_version": "1.5.0",
            "_view_count": null,
            "_view_module_version": "1.5.0",
            "box_style": "",
            "layout": "IPY_MODEL_8f38a92947dc43058fd25e72feefa99d",
            "_model_module": "@jupyter-widgets/controls",
            "children": [
              "IPY_MODEL_f27a849470384332b33bf8656d4fa70f",
              "IPY_MODEL_84455837a3d145d69fd55b6dd6f7f421"
            ]
          }
        },
        "8f38a92947dc43058fd25e72feefa99d": {
          "model_module": "@jupyter-widgets/base",
          "model_name": "LayoutModel",
          "state": {
            "_view_name": "LayoutView",
            "grid_template_rows": null,
            "right": null,
            "justify_content": null,
            "_view_module": "@jupyter-widgets/base",
            "overflow": null,
            "_model_module_version": "1.2.0",
            "_view_count": null,
            "flex_flow": null,
            "width": null,
            "min_width": null,
            "border": null,
            "align_items": null,
            "bottom": null,
            "_model_module": "@jupyter-widgets/base",
            "top": null,
            "grid_column": null,
            "overflow_y": null,
            "overflow_x": null,
            "grid_auto_flow": null,
            "grid_area": null,
            "grid_template_columns": null,
            "flex": null,
            "_model_name": "LayoutModel",
            "justify_items": null,
            "grid_row": null,
            "max_height": null,
            "align_content": null,
            "visibility": null,
            "align_self": null,
            "height": null,
            "min_height": null,
            "padding": null,
            "grid_auto_rows": null,
            "grid_gap": null,
            "max_width": null,
            "order": null,
            "_view_module_version": "1.2.0",
            "grid_template_areas": null,
            "object_position": null,
            "object_fit": null,
            "grid_auto_columns": null,
            "margin": null,
            "display": null,
            "left": null
          }
        },
        "f27a849470384332b33bf8656d4fa70f": {
          "model_module": "@jupyter-widgets/controls",
          "model_name": "FloatProgressModel",
          "state": {
            "_view_name": "ProgressView",
            "style": "IPY_MODEL_05ed4eebb4864d0c80f7dc951551babb",
            "_dom_classes": [],
            "description": "Downloading: 100%",
            "_model_name": "FloatProgressModel",
            "bar_style": "success",
            "max": 231508,
            "_view_module": "@jupyter-widgets/controls",
            "_model_module_version": "1.5.0",
            "value": 231508,
            "_view_count": null,
            "_view_module_version": "1.5.0",
            "orientation": "horizontal",
            "min": 0,
            "description_tooltip": null,
            "_model_module": "@jupyter-widgets/controls",
            "layout": "IPY_MODEL_cb6893386202414c82eaeaf2826714fa"
          }
        },
        "84455837a3d145d69fd55b6dd6f7f421": {
          "model_module": "@jupyter-widgets/controls",
          "model_name": "HTMLModel",
          "state": {
            "_view_name": "HTMLView",
            "style": "IPY_MODEL_df0fcfb102434888baf1f501e3ef54d4",
            "_dom_classes": [],
            "description": "",
            "_model_name": "HTMLModel",
            "placeholder": "​",
            "_view_module": "@jupyter-widgets/controls",
            "_model_module_version": "1.5.0",
            "value": " 232k/232k [00:00&lt;00:00, 1.29MB/s]",
            "_view_count": null,
            "_view_module_version": "1.5.0",
            "description_tooltip": null,
            "_model_module": "@jupyter-widgets/controls",
            "layout": "IPY_MODEL_d1db30ebde1c473ba488e925a6ed188b"
          }
        },
        "05ed4eebb4864d0c80f7dc951551babb": {
          "model_module": "@jupyter-widgets/controls",
          "model_name": "ProgressStyleModel",
          "state": {
            "_view_name": "StyleView",
            "_model_name": "ProgressStyleModel",
            "description_width": "initial",
            "_view_module": "@jupyter-widgets/base",
            "_model_module_version": "1.5.0",
            "_view_count": null,
            "_view_module_version": "1.2.0",
            "bar_color": null,
            "_model_module": "@jupyter-widgets/controls"
          }
        },
        "cb6893386202414c82eaeaf2826714fa": {
          "model_module": "@jupyter-widgets/base",
          "model_name": "LayoutModel",
          "state": {
            "_view_name": "LayoutView",
            "grid_template_rows": null,
            "right": null,
            "justify_content": null,
            "_view_module": "@jupyter-widgets/base",
            "overflow": null,
            "_model_module_version": "1.2.0",
            "_view_count": null,
            "flex_flow": null,
            "width": null,
            "min_width": null,
            "border": null,
            "align_items": null,
            "bottom": null,
            "_model_module": "@jupyter-widgets/base",
            "top": null,
            "grid_column": null,
            "overflow_y": null,
            "overflow_x": null,
            "grid_auto_flow": null,
            "grid_area": null,
            "grid_template_columns": null,
            "flex": null,
            "_model_name": "LayoutModel",
            "justify_items": null,
            "grid_row": null,
            "max_height": null,
            "align_content": null,
            "visibility": null,
            "align_self": null,
            "height": null,
            "min_height": null,
            "padding": null,
            "grid_auto_rows": null,
            "grid_gap": null,
            "max_width": null,
            "order": null,
            "_view_module_version": "1.2.0",
            "grid_template_areas": null,
            "object_position": null,
            "object_fit": null,
            "grid_auto_columns": null,
            "margin": null,
            "display": null,
            "left": null
          }
        },
        "df0fcfb102434888baf1f501e3ef54d4": {
          "model_module": "@jupyter-widgets/controls",
          "model_name": "DescriptionStyleModel",
          "state": {
            "_view_name": "StyleView",
            "_model_name": "DescriptionStyleModel",
            "description_width": "",
            "_view_module": "@jupyter-widgets/base",
            "_model_module_version": "1.5.0",
            "_view_count": null,
            "_view_module_version": "1.2.0",
            "_model_module": "@jupyter-widgets/controls"
          }
        },
        "d1db30ebde1c473ba488e925a6ed188b": {
          "model_module": "@jupyter-widgets/base",
          "model_name": "LayoutModel",
          "state": {
            "_view_name": "LayoutView",
            "grid_template_rows": null,
            "right": null,
            "justify_content": null,
            "_view_module": "@jupyter-widgets/base",
            "overflow": null,
            "_model_module_version": "1.2.0",
            "_view_count": null,
            "flex_flow": null,
            "width": null,
            "min_width": null,
            "border": null,
            "align_items": null,
            "bottom": null,
            "_model_module": "@jupyter-widgets/base",
            "top": null,
            "grid_column": null,
            "overflow_y": null,
            "overflow_x": null,
            "grid_auto_flow": null,
            "grid_area": null,
            "grid_template_columns": null,
            "flex": null,
            "_model_name": "LayoutModel",
            "justify_items": null,
            "grid_row": null,
            "max_height": null,
            "align_content": null,
            "visibility": null,
            "align_self": null,
            "height": null,
            "min_height": null,
            "padding": null,
            "grid_auto_rows": null,
            "grid_gap": null,
            "max_width": null,
            "order": null,
            "_view_module_version": "1.2.0",
            "grid_template_areas": null,
            "object_position": null,
            "object_fit": null,
            "grid_auto_columns": null,
            "margin": null,
            "display": null,
            "left": null
          }
        }
      }
    }
  },
  "cells": [
    {
      "cell_type": "markdown",
      "metadata": {
        "id": "view-in-github",
        "colab_type": "text"
      },
      "source": [
        "<a href=\"https://colab.research.google.com/github/flogothetis/SQuAD-QueryAnswering-BERT-Keras/blob/main/SQuAD_QuestionAnswering_Bert.ipynb\" target=\"_parent\"><img src=\"https://colab.research.google.com/assets/colab-badge.svg\" alt=\"Open In Colab\"/></a>"
      ]
    },
    {
      "cell_type": "code",
      "metadata": {
        "id": "8RKJeoa9XR6p",
        "outputId": "099fefec-7958-4b22-814b-8ab9000cad2f",
        "colab": {
          "base_uri": "https://localhost:8080/"
        }
      },
      "source": [
        "!pip install transformers\n",
        "import json \n",
        "import numpy as np\n",
        "import tensorflow as tf\n",
        "import re\n",
        "from tokenizers import BertWordPieceTokenizer\n",
        "from transformers import BertTokenizer, TFBertModel,BertConfig\n",
        "import os\n",
        "import string \n",
        "\n",
        "configuration = BertConfig()  # default parameters and configuration for BERT\n",
        "max_len = 384"
      ],
      "execution_count": 1,
      "outputs": [
        {
          "output_type": "stream",
          "text": [
            "Collecting transformers\n",
            "\u001b[?25l  Downloading https://files.pythonhosted.org/packages/2c/4e/4f1ede0fd7a36278844a277f8d53c21f88f37f3754abf76a5d6224f76d4a/transformers-3.4.0-py3-none-any.whl (1.3MB)\n",
            "\r\u001b[K     |▎                               | 10kB 17.4MB/s eta 0:00:01\r\u001b[K     |▌                               | 20kB 2.1MB/s eta 0:00:01\r\u001b[K     |▉                               | 30kB 2.6MB/s eta 0:00:01\r\u001b[K     |█                               | 40kB 3.0MB/s eta 0:00:01\r\u001b[K     |█▎                              | 51kB 2.4MB/s eta 0:00:01\r\u001b[K     |█▋                              | 61kB 2.7MB/s eta 0:00:01\r\u001b[K     |█▉                              | 71kB 3.0MB/s eta 0:00:01\r\u001b[K     |██                              | 81kB 3.3MB/s eta 0:00:01\r\u001b[K     |██▍                             | 92kB 3.4MB/s eta 0:00:01\r\u001b[K     |██▋                             | 102kB 3.3MB/s eta 0:00:01\r\u001b[K     |██▉                             | 112kB 3.3MB/s eta 0:00:01\r\u001b[K     |███▏                            | 122kB 3.3MB/s eta 0:00:01\r\u001b[K     |███▍                            | 133kB 3.3MB/s eta 0:00:01\r\u001b[K     |███▋                            | 143kB 3.3MB/s eta 0:00:01\r\u001b[K     |████                            | 153kB 3.3MB/s eta 0:00:01\r\u001b[K     |████▏                           | 163kB 3.3MB/s eta 0:00:01\r\u001b[K     |████▍                           | 174kB 3.3MB/s eta 0:00:01\r\u001b[K     |████▊                           | 184kB 3.3MB/s eta 0:00:01\r\u001b[K     |█████                           | 194kB 3.3MB/s eta 0:00:01\r\u001b[K     |█████▏                          | 204kB 3.3MB/s eta 0:00:01\r\u001b[K     |█████▌                          | 215kB 3.3MB/s eta 0:00:01\r\u001b[K     |█████▊                          | 225kB 3.3MB/s eta 0:00:01\r\u001b[K     |██████                          | 235kB 3.3MB/s eta 0:00:01\r\u001b[K     |██████▎                         | 245kB 3.3MB/s eta 0:00:01\r\u001b[K     |██████▌                         | 256kB 3.3MB/s eta 0:00:01\r\u001b[K     |██████▊                         | 266kB 3.3MB/s eta 0:00:01\r\u001b[K     |███████                         | 276kB 3.3MB/s eta 0:00:01\r\u001b[K     |███████▎                        | 286kB 3.3MB/s eta 0:00:01\r\u001b[K     |███████▋                        | 296kB 3.3MB/s eta 0:00:01\r\u001b[K     |███████▉                        | 307kB 3.3MB/s eta 0:00:01\r\u001b[K     |████████                        | 317kB 3.3MB/s eta 0:00:01\r\u001b[K     |████████▍                       | 327kB 3.3MB/s eta 0:00:01\r\u001b[K     |████████▋                       | 337kB 3.3MB/s eta 0:00:01\r\u001b[K     |████████▉                       | 348kB 3.3MB/s eta 0:00:01\r\u001b[K     |█████████▏                      | 358kB 3.3MB/s eta 0:00:01\r\u001b[K     |█████████▍                      | 368kB 3.3MB/s eta 0:00:01\r\u001b[K     |█████████▋                      | 378kB 3.3MB/s eta 0:00:01\r\u001b[K     |██████████                      | 389kB 3.3MB/s eta 0:00:01\r\u001b[K     |██████████▏                     | 399kB 3.3MB/s eta 0:00:01\r\u001b[K     |██████████▍                     | 409kB 3.3MB/s eta 0:00:01\r\u001b[K     |██████████▊                     | 419kB 3.3MB/s eta 0:00:01\r\u001b[K     |███████████                     | 430kB 3.3MB/s eta 0:00:01\r\u001b[K     |███████████▏                    | 440kB 3.3MB/s eta 0:00:01\r\u001b[K     |███████████▌                    | 450kB 3.3MB/s eta 0:00:01\r\u001b[K     |███████████▊                    | 460kB 3.3MB/s eta 0:00:01\r\u001b[K     |████████████                    | 471kB 3.3MB/s eta 0:00:01\r\u001b[K     |████████████▎                   | 481kB 3.3MB/s eta 0:00:01\r\u001b[K     |████████████▌                   | 491kB 3.3MB/s eta 0:00:01\r\u001b[K     |████████████▊                   | 501kB 3.3MB/s eta 0:00:01\r\u001b[K     |█████████████                   | 512kB 3.3MB/s eta 0:00:01\r\u001b[K     |█████████████▎                  | 522kB 3.3MB/s eta 0:00:01\r\u001b[K     |█████████████▌                  | 532kB 3.3MB/s eta 0:00:01\r\u001b[K     |█████████████▉                  | 542kB 3.3MB/s eta 0:00:01\r\u001b[K     |██████████████                  | 552kB 3.3MB/s eta 0:00:01\r\u001b[K     |██████████████▍                 | 563kB 3.3MB/s eta 0:00:01\r\u001b[K     |██████████████▋                 | 573kB 3.3MB/s eta 0:00:01\r\u001b[K     |██████████████▉                 | 583kB 3.3MB/s eta 0:00:01\r\u001b[K     |███████████████▏                | 593kB 3.3MB/s eta 0:00:01\r\u001b[K     |███████████████▍                | 604kB 3.3MB/s eta 0:00:01\r\u001b[K     |███████████████▋                | 614kB 3.3MB/s eta 0:00:01\r\u001b[K     |████████████████                | 624kB 3.3MB/s eta 0:00:01\r\u001b[K     |████████████████▏               | 634kB 3.3MB/s eta 0:00:01\r\u001b[K     |████████████████▍               | 645kB 3.3MB/s eta 0:00:01\r\u001b[K     |████████████████▊               | 655kB 3.3MB/s eta 0:00:01\r\u001b[K     |█████████████████               | 665kB 3.3MB/s eta 0:00:01\r\u001b[K     |█████████████████▏              | 675kB 3.3MB/s eta 0:00:01\r\u001b[K     |█████████████████▌              | 686kB 3.3MB/s eta 0:00:01\r\u001b[K     |█████████████████▊              | 696kB 3.3MB/s eta 0:00:01\r\u001b[K     |██████████████████              | 706kB 3.3MB/s eta 0:00:01\r\u001b[K     |██████████████████▎             | 716kB 3.3MB/s eta 0:00:01\r\u001b[K     |██████████████████▌             | 727kB 3.3MB/s eta 0:00:01\r\u001b[K     |██████████████████▊             | 737kB 3.3MB/s eta 0:00:01\r\u001b[K     |███████████████████             | 747kB 3.3MB/s eta 0:00:01\r\u001b[K     |███████████████████▎            | 757kB 3.3MB/s eta 0:00:01\r\u001b[K     |███████████████████▌            | 768kB 3.3MB/s eta 0:00:01\r\u001b[K     |███████████████████▉            | 778kB 3.3MB/s eta 0:00:01\r\u001b[K     |████████████████████            | 788kB 3.3MB/s eta 0:00:01\r\u001b[K     |████████████████████▎           | 798kB 3.3MB/s eta 0:00:01\r\u001b[K     |████████████████████▋           | 808kB 3.3MB/s eta 0:00:01\r\u001b[K     |████████████████████▉           | 819kB 3.3MB/s eta 0:00:01\r\u001b[K     |█████████████████████           | 829kB 3.3MB/s eta 0:00:01\r\u001b[K     |█████████████████████▍          | 839kB 3.3MB/s eta 0:00:01\r\u001b[K     |█████████████████████▋          | 849kB 3.3MB/s eta 0:00:01\r\u001b[K     |██████████████████████          | 860kB 3.3MB/s eta 0:00:01\r\u001b[K     |██████████████████████▏         | 870kB 3.3MB/s eta 0:00:01\r\u001b[K     |██████████████████████▍         | 880kB 3.3MB/s eta 0:00:01\r\u001b[K     |██████████████████████▊         | 890kB 3.3MB/s eta 0:00:01\r\u001b[K     |███████████████████████         | 901kB 3.3MB/s eta 0:00:01\r\u001b[K     |███████████████████████▏        | 911kB 3.3MB/s eta 0:00:01\r\u001b[K     |███████████████████████▌        | 921kB 3.3MB/s eta 0:00:01\r\u001b[K     |███████████████████████▊        | 931kB 3.3MB/s eta 0:00:01\r\u001b[K     |████████████████████████        | 942kB 3.3MB/s eta 0:00:01\r\u001b[K     |████████████████████████▎       | 952kB 3.3MB/s eta 0:00:01\r\u001b[K     |████████████████████████▌       | 962kB 3.3MB/s eta 0:00:01\r\u001b[K     |████████████████████████▊       | 972kB 3.3MB/s eta 0:00:01\r\u001b[K     |█████████████████████████       | 983kB 3.3MB/s eta 0:00:01\r\u001b[K     |█████████████████████████▎      | 993kB 3.3MB/s eta 0:00:01\r\u001b[K     |█████████████████████████▌      | 1.0MB 3.3MB/s eta 0:00:01\r\u001b[K     |█████████████████████████▉      | 1.0MB 3.3MB/s eta 0:00:01\r\u001b[K     |██████████████████████████      | 1.0MB 3.3MB/s eta 0:00:01\r\u001b[K     |██████████████████████████▎     | 1.0MB 3.3MB/s eta 0:00:01\r\u001b[K     |██████████████████████████▋     | 1.0MB 3.3MB/s eta 0:00:01\r\u001b[K     |██████████████████████████▉     | 1.1MB 3.3MB/s eta 0:00:01\r\u001b[K     |███████████████████████████     | 1.1MB 3.3MB/s eta 0:00:01\r\u001b[K     |███████████████████████████▍    | 1.1MB 3.3MB/s eta 0:00:01\r\u001b[K     |███████████████████████████▋    | 1.1MB 3.3MB/s eta 0:00:01\r\u001b[K     |███████████████████████████▉    | 1.1MB 3.3MB/s eta 0:00:01\r\u001b[K     |████████████████████████████▏   | 1.1MB 3.3MB/s eta 0:00:01\r\u001b[K     |████████████████████████████▍   | 1.1MB 3.3MB/s eta 0:00:01\r\u001b[K     |████████████████████████████▊   | 1.1MB 3.3MB/s eta 0:00:01\r\u001b[K     |█████████████████████████████   | 1.1MB 3.3MB/s eta 0:00:01\r\u001b[K     |█████████████████████████████▏  | 1.1MB 3.3MB/s eta 0:00:01\r\u001b[K     |█████████████████████████████▌  | 1.2MB 3.3MB/s eta 0:00:01\r\u001b[K     |█████████████████████████████▊  | 1.2MB 3.3MB/s eta 0:00:01\r\u001b[K     |██████████████████████████████  | 1.2MB 3.3MB/s eta 0:00:01\r\u001b[K     |██████████████████████████████▎ | 1.2MB 3.3MB/s eta 0:00:01\r\u001b[K     |██████████████████████████████▌ | 1.2MB 3.3MB/s eta 0:00:01\r\u001b[K     |██████████████████████████████▊ | 1.2MB 3.3MB/s eta 0:00:01\r\u001b[K     |███████████████████████████████ | 1.2MB 3.3MB/s eta 0:00:01\r\u001b[K     |███████████████████████████████▎| 1.2MB 3.3MB/s eta 0:00:01\r\u001b[K     |███████████████████████████████▌| 1.2MB 3.3MB/s eta 0:00:01\r\u001b[K     |███████████████████████████████▉| 1.2MB 3.3MB/s eta 0:00:01\r\u001b[K     |████████████████████████████████| 1.3MB 3.3MB/s \n",
            "\u001b[?25hRequirement already satisfied: packaging in /usr/local/lib/python3.6/dist-packages (from transformers) (20.4)\n",
            "Requirement already satisfied: filelock in /usr/local/lib/python3.6/dist-packages (from transformers) (3.0.12)\n",
            "Requirement already satisfied: requests in /usr/local/lib/python3.6/dist-packages (from transformers) (2.23.0)\n",
            "Requirement already satisfied: tqdm>=4.27 in /usr/local/lib/python3.6/dist-packages (from transformers) (4.41.1)\n",
            "Requirement already satisfied: regex!=2019.12.17 in /usr/local/lib/python3.6/dist-packages (from transformers) (2019.12.20)\n",
            "Collecting sentencepiece!=0.1.92\n",
            "\u001b[?25l  Downloading https://files.pythonhosted.org/packages/e5/2d/6d4ca4bef9a67070fa1cac508606328329152b1df10bdf31fb6e4e727894/sentencepiece-0.1.94-cp36-cp36m-manylinux2014_x86_64.whl (1.1MB)\n",
            "\u001b[K     |████████████████████████████████| 1.1MB 19.4MB/s \n",
            "\u001b[?25hRequirement already satisfied: protobuf in /usr/local/lib/python3.6/dist-packages (from transformers) (3.12.4)\n",
            "Collecting sacremoses\n",
            "\u001b[?25l  Downloading https://files.pythonhosted.org/packages/7d/34/09d19aff26edcc8eb2a01bed8e98f13a1537005d31e95233fd48216eed10/sacremoses-0.0.43.tar.gz (883kB)\n",
            "\u001b[K     |████████████████████████████████| 890kB 32.6MB/s \n",
            "\u001b[?25hRequirement already satisfied: dataclasses; python_version < \"3.7\" in /usr/local/lib/python3.6/dist-packages (from transformers) (0.7)\n",
            "Collecting tokenizers==0.9.2\n",
            "\u001b[?25l  Downloading https://files.pythonhosted.org/packages/7c/a5/78be1a55b2ac8d6a956f0a211d372726e2b1dd2666bb537fea9b03abd62c/tokenizers-0.9.2-cp36-cp36m-manylinux1_x86_64.whl (2.9MB)\n",
            "\u001b[K     |████████████████████████████████| 2.9MB 35.8MB/s \n",
            "\u001b[?25hRequirement already satisfied: numpy in /usr/local/lib/python3.6/dist-packages (from transformers) (1.18.5)\n",
            "Requirement already satisfied: pyparsing>=2.0.2 in /usr/local/lib/python3.6/dist-packages (from packaging->transformers) (2.4.7)\n",
            "Requirement already satisfied: six in /usr/local/lib/python3.6/dist-packages (from packaging->transformers) (1.15.0)\n",
            "Requirement already satisfied: chardet<4,>=3.0.2 in /usr/local/lib/python3.6/dist-packages (from requests->transformers) (3.0.4)\n",
            "Requirement already satisfied: urllib3!=1.25.0,!=1.25.1,<1.26,>=1.21.1 in /usr/local/lib/python3.6/dist-packages (from requests->transformers) (1.24.3)\n",
            "Requirement already satisfied: certifi>=2017.4.17 in /usr/local/lib/python3.6/dist-packages (from requests->transformers) (2020.6.20)\n",
            "Requirement already satisfied: idna<3,>=2.5 in /usr/local/lib/python3.6/dist-packages (from requests->transformers) (2.10)\n",
            "Requirement already satisfied: setuptools in /usr/local/lib/python3.6/dist-packages (from protobuf->transformers) (50.3.0)\n",
            "Requirement already satisfied: click in /usr/local/lib/python3.6/dist-packages (from sacremoses->transformers) (7.1.2)\n",
            "Requirement already satisfied: joblib in /usr/local/lib/python3.6/dist-packages (from sacremoses->transformers) (0.17.0)\n",
            "Building wheels for collected packages: sacremoses\n",
            "  Building wheel for sacremoses (setup.py) ... \u001b[?25l\u001b[?25hdone\n",
            "  Created wheel for sacremoses: filename=sacremoses-0.0.43-cp36-none-any.whl size=893257 sha256=d2f2fe005939cf0a609d81f60464e2ca320da655bbd4c75923a498de8830649b\n",
            "  Stored in directory: /root/.cache/pip/wheels/29/3c/fd/7ce5c3f0666dab31a50123635e6fb5e19ceb42ce38d4e58f45\n",
            "Successfully built sacremoses\n",
            "Installing collected packages: sentencepiece, sacremoses, tokenizers, transformers\n",
            "Successfully installed sacremoses-0.0.43 sentencepiece-0.1.94 tokenizers-0.9.2 transformers-3.4.0\n"
          ],
          "name": "stdout"
        }
      ]
    },
    {
      "cell_type": "markdown",
      "metadata": {
        "id": "ZuUzslGpuf5P"
      },
      "source": [
        "## Bert Tokenizer and model for fine-tuning"
      ]
    },
    {
      "cell_type": "code",
      "metadata": {
        "id": "OeMZCLK3uRHF",
        "outputId": "64cda7cd-473b-49c8-dfc7-e29c4b0a29ce",
        "colab": {
          "base_uri": "https://localhost:8080/",
          "height": 67,
          "referenced_widgets": [
            "68c8902ba6c944baa02baf95381c2603",
            "8f38a92947dc43058fd25e72feefa99d",
            "f27a849470384332b33bf8656d4fa70f",
            "84455837a3d145d69fd55b6dd6f7f421",
            "05ed4eebb4864d0c80f7dc951551babb",
            "cb6893386202414c82eaeaf2826714fa",
            "df0fcfb102434888baf1f501e3ef54d4",
            "d1db30ebde1c473ba488e925a6ed188b"
          ]
        }
      },
      "source": [
        "slow_tokenizer = BertTokenizer.from_pretrained(\"bert-base-uncased\")\n",
        "save_path = \"bert_base_uncased/\"\n",
        "if not os.path.exists(save_path):\n",
        "    os.makedirs(save_path)\n",
        "slow_tokenizer.save_pretrained(save_path)\n",
        "\n",
        "# Load the fast tokenizer from saved file\n",
        "tokenizer = BertWordPieceTokenizer(\"bert_base_uncased/vocab.txt\", lowercase=True)\n"
      ],
      "execution_count": 2,
      "outputs": [
        {
          "output_type": "display_data",
          "data": {
            "application/vnd.jupyter.widget-view+json": {
              "model_id": "68c8902ba6c944baa02baf95381c2603",
              "version_minor": 0,
              "version_major": 2
            },
            "text/plain": [
              "HBox(children=(FloatProgress(value=0.0, description='Downloading', max=231508.0, style=ProgressStyle(descripti…"
            ]
          },
          "metadata": {
            "tags": []
          }
        },
        {
          "output_type": "stream",
          "text": [
            "\n"
          ],
          "name": "stdout"
        }
      ]
    },
    {
      "cell_type": "markdown",
      "metadata": {
        "id": "BlGyWzqJumxj"
      },
      "source": [
        "## Preprocessing of data\n",
        "- Create each example as SQuAD class object"
      ]
    },
    {
      "cell_type": "code",
      "metadata": {
        "id": "cEbzP6nIX8TM"
      },
      "source": [
        "class SQuADEntry:\n",
        "    def __init__(self, context, question, basic_answer, more_answers, start_idx):\n",
        "        self.context = context\n",
        "        self.question = question\n",
        "        self.basic_answer = basic_answer\n",
        "        self.more_answers = more_answers\n",
        "        self.start_idx = start_idx\n",
        "        self.end_idx = None\n",
        "        self.start_idx_token = start_idx\n",
        "        self.end_idx_token = None\n",
        "        self.offsets = None\n",
        "        self.input_ids = None \n",
        "        self.attention_mask = None\n",
        "        self.token_type_ids = None\n",
        "        self.validExample= True\n",
        "    def __call__(self):\n",
        "\n",
        "         # Clean context, answer and question\n",
        "        self.context = \" \".join(str(self.context).split())\n",
        "        self.question = \" \".join(str(self.question).split())\n",
        "        self.basic_answer = \" \".join(str(self.basic_answer).split())\n",
        "\n",
        "\n",
        "        #Calculate end_idx\n",
        "        self.end_idx = self.start_idx + len(self.basic_answer)\n",
        "        if (self.end_idx >=len(self.context)):\n",
        "            self.validExample= False\n",
        "            return\n",
        "\n",
        "        #find characters of context that are part of answer\n",
        "        is_part_of_answer = [0]*len(self.context)\n",
        "        for i in range (self.start_idx, self.end_idx):\n",
        "            is_part_of_answer[i] = 1\n",
        "\n",
        "        contextTokenizer =  tokenizer.encode(self.context)  \n",
        "        #find index of token that corresponds to start and the end of the answer\n",
        "        answer_id_token=[]\n",
        "        for idx, (start,end) in enumerate(contextTokenizer.offsets):\n",
        "            if (sum(is_part_of_answer[start:end]) >0 ):\n",
        "                answer_id_token.append(idx)\n",
        "        #data to predict\n",
        "        if len(answer_id_token) == 0 :\n",
        "            self.validExample=False\n",
        "            return         \n",
        "        self.start_idx_token = answer_id_token[0]\n",
        "        self.end_idx_token = answer_id_token[-1]\n",
        "        self.offsets = contextTokenizer.offsets\n",
        "        \n",
        "        # work on question\n",
        "        questionTokinizer  = tokenizer.encode(self.question)\n",
        "\n",
        "        #Create model's inputs \n",
        "        self.input_ids = contextTokenizer.ids + questionTokinizer.ids[1:]\n",
        "        # Dropout long examples\n",
        "        if (max_len - len(self.input_ids) < 0 ):\n",
        "            self.validExample= False\n",
        "            return\n",
        "        self.attention_mask = [1] * len (self.input_ids)\n",
        "        self.token_type_ids = [0] * len(contextTokenizer.ids) + \\\n",
        "                                [1]*len(questionTokinizer.ids[1:])\n",
        "\n",
        "                                \n",
        "\n",
        "\n"
      ],
      "execution_count": 3,
      "outputs": []
    },
    {
      "cell_type": "markdown",
      "metadata": {
        "id": "wmqaqSolLgG6"
      },
      "source": [
        "## Load data from JSON"
      ]
    },
    {
      "cell_type": "code",
      "metadata": {
        "id": "HVcuVOupYeHu",
        "outputId": "1daebf00-6fb6-4ced-9d58-253685fe007c",
        "colab": {
          "base_uri": "https://localhost:8080/"
        }
      },
      "source": [
        "def create_squad_examples(raw_data):\n",
        "    squad_examples = []\n",
        "    for item in raw_data[\"data\"]:\n",
        "        for para in item[\"paragraphs\"]:\n",
        "            context = para[\"context\"]\n",
        "            for qa in para[\"qas\"]:\n",
        "                question = qa[\"question\"]\n",
        "                answer_text = qa[\"answers\"][0][\"text\"]\n",
        "                all_answers = [_[\"text\"] for _ in qa[\"answers\"]]\n",
        "                start_char_idx = qa[\"answers\"][0][\"answer_start\"]\n",
        "\n",
        "                #context, question, basic_answer, more_answers, start_idx\n",
        "                squad_eg = SQuADEntry(\n",
        "                 context,question, answer_text, all_answers, start_char_idx,\n",
        "                )\n",
        "                squad_eg()\n",
        "                squad_examples.append(squad_eg)\n",
        "    return squad_examples\n",
        "\n",
        "# Data url \n",
        "train_data_url = \"https://rajpurkar.github.io/SQuAD-explorer/dataset/train-v1.1.json\"\n",
        "train_path = tf.keras.utils.get_file(\"train.json\", train_data_url)\n",
        "eval_data_url = \"https://rajpurkar.github.io/SQuAD-explorer/dataset/dev-v1.1.json\"\n",
        "eval_path = tf.keras.utils.get_file(\"eval.json\", eval_data_url)  \n",
        "#open JSON's\n",
        "with open(train_path) as f:\n",
        "    raw_train_data = json.load(f)\n",
        "\n",
        "with open(eval_path) as f:\n",
        "    raw_eval_data = json.load(f)\n"
      ],
      "execution_count": 4,
      "outputs": [
        {
          "output_type": "stream",
          "text": [
            "Downloading data from https://rajpurkar.github.io/SQuAD-explorer/dataset/train-v1.1.json\n",
            "30294016/30288272 [==============================] - 1s 0us/step\n",
            "Downloading data from https://rajpurkar.github.io/SQuAD-explorer/dataset/dev-v1.1.json\n",
            "4857856/4854279 [==============================] - 0s 0us/step\n"
          ],
          "name": "stdout"
        }
      ]
    },
    {
      "cell_type": "markdown",
      "metadata": {
        "id": "4QxRutAYga5o"
      },
      "source": [
        "## Creating training examples"
      ]
    },
    {
      "cell_type": "code",
      "metadata": {
        "id": "HPl7Y373OSZW"
      },
      "source": [
        "def createTrainingExamples(sqaud_examples):\n",
        "    dict_training={\n",
        "        \"input_ids\" : [],\n",
        "        \"attention_mask\" : [],\n",
        "        \"token_type_ids\" : [],\n",
        "        \"start_idx_token\" : [],\n",
        "        \"end_idx_token\" : []\n",
        "    }\n",
        "    count = 0\n",
        "    for x in sqaud_examples:\n",
        "        if (x.validExample):\n",
        "            dict_training[\"input_ids\"].append(x.input_ids)\n",
        "            dict_training[\"attention_mask\"].append(x.attention_mask)\n",
        "            dict_training[\"token_type_ids\"].append(x.token_type_ids)\n",
        "            dict_training['start_idx_token'].append(x.start_idx_token)\n",
        "            dict_training['end_idx_token'].append(x.end_idx_token)\n",
        "        else:\n",
        "            count+=1\n",
        "    print(count)            \n",
        "    #convert to numpy arrays \n",
        "    for key in dict_training:\n",
        "        dict_training[key]= np.array(dict_training[key])\n",
        "        print(dict_training[key])\n",
        "    #padding\n",
        "    dict_training[\"input_ids\"] = tf.keras.preprocessing.sequence.pad_sequences( dict_training[\"input_ids\"],padding='post',maxlen=max_len)\n",
        "    dict_training[\"attention_mask\"]=tf.keras.preprocessing.sequence.pad_sequences(dict_training[\"attention_mask\"],padding='post',maxlen=max_len)\n",
        "    dict_training[\"token_type_ids\"]=tf.keras.preprocessing.sequence.pad_sequences(dict_training[\"token_type_ids\"],padding='post',maxlen=max_len)\n",
        "            \n",
        "    X= [dict_training[\"input_ids\"], dict_training[\"attention_mask\"], dict_training[\"token_type_ids\"]]\n",
        "    Y= [dict_training[\"start_idx_token\"], dict_training[\"end_idx_token\"]]\n",
        "    return X,Y    \n",
        "\n",
        "\n"
      ],
      "execution_count": 5,
      "outputs": []
    },
    {
      "cell_type": "code",
      "metadata": {
        "id": "ebd7pIZgPkaf"
      },
      "source": [
        "sQUADTrain  = create_squad_examples(raw_train_data)\n",
        "XTrain, YTrain = createTrainingExamples(sQUADTrain)\n",
        "sQUADEval  = create_squad_examples(raw_eval_data)\n",
        "XEval, YEval = createTrainingExamples(sQUADEval)"
      ],
      "execution_count": null,
      "outputs": []
    },
    {
      "cell_type": "code",
      "metadata": {
        "id": "C__CaeZfI76k",
        "outputId": "37b73359-518e-4b97-dc10-56f51ed9a118",
        "colab": {
          "base_uri": "https://localhost:8080/"
        }
      },
      "source": [
        "print(f\"{len(sQUADTrain)} training points created.\")\n",
        "print(f\"{len(sQUADEval)} evaluation points created.\")\n"
      ],
      "execution_count": 8,
      "outputs": [
        {
          "output_type": "stream",
          "text": [
            "87599 training points created.\n",
            "10570 evaluation points created.\n"
          ],
          "name": "stdout"
        }
      ]
    },
    {
      "cell_type": "markdown",
      "metadata": {
        "id": "hYFKER52rBga"
      },
      "source": [
        "## Create model\n"
      ]
    },
    {
      "cell_type": "code",
      "metadata": {
        "id": "X8I0HRkSgx4_"
      },
      "source": [
        "def createModel():\n",
        "    #Bert model\n",
        "    TFmodel = TFBertModel.from_pretrained('bert-base-uncased')\n",
        "    #Create model's inputs\n",
        "    inputIds= tf.keras.layers.Input((max_len,), dtype=tf.int32)\n",
        "    inputAttention= tf.keras.layers.Input((max_len,), dtype=tf.int32)\n",
        "    inputTokenType= tf.keras.layers.Input((max_len,), dtype=tf.int32)\n",
        "    \n",
        "    #Pass through BERT model\n",
        "    bertOut= TFmodel(inputIds,attention_mask=inputAttention,token_type_ids=inputTokenType)[0]\n",
        "\n",
        "    #Create classification layer\n",
        "    start_logits= tf.keras.layers.Dense(1, use_bias= False)(bertOut)\n",
        "    start_logits= tf.keras.layers.Flatten()(start_logits)    \n",
        "    end_logits= tf.keras.layers.Dense(1, use_bias=False)(bertOut)\n",
        "    end_logits= tf.keras.layers.Flatten()(end_logits)\n",
        "    \n",
        "    #Pass though softmax\n",
        "    start_prob = tf.keras.layers.Activation(tf.keras.activations.softmax)(start_logits)\n",
        "    end_prob = tf.keras.layers.Activation(tf.keras.activations.softmax)(end_logits)\n",
        "\n",
        "    model =tf.keras.Model(inputs=[ inputIds, inputAttention, inputTokenType],\n",
        "                          outputs=[start_prob, end_prob])\n",
        "    loss= tf.keras.losses.SparseCategoricalCrossentropy(from_logits=False)\n",
        "\n",
        "    optimizer = tf.keras.optimizers.Adam(lr= 5e-5)\n",
        "    model.compile(optimizer = optimizer, loss= [loss, loss])\n",
        "    return model\n",
        "\n",
        "\n",
        "\n"
      ],
      "execution_count": 28,
      "outputs": []
    },
    {
      "cell_type": "markdown",
      "metadata": {
        "id": "_GgEoPE2v3Z3"
      },
      "source": [
        "## Run on TPU's"
      ]
    },
    {
      "cell_type": "code",
      "metadata": {
        "id": "UpUgT1MxjsAe",
        "outputId": "f76a3313-17d6-4705-e032-eba17b108a5f",
        "colab": {
          "base_uri": "https://localhost:8080/"
        }
      },
      "source": [
        "use_tpu = True\n",
        "if use_tpu:\n",
        "    # Create distribution strategy\n",
        "    tpu = tf.distribute.cluster_resolver.TPUClusterResolver()\n",
        "    tf.config.experimental_connect_to_cluster(tpu)\n",
        "    tf.tpu.experimental.initialize_tpu_system(tpu)\n",
        "    strategy = tf.distribute.experimental.TPUStrategy(tpu)\n",
        "\n",
        "    # Create model\n",
        "    with strategy.scope():\n",
        "        model = createModel()\n",
        "else:\n",
        "    model = createModel()\n",
        "\n",
        "model.summary()"
      ],
      "execution_count": 29,
      "outputs": [
        {
          "output_type": "stream",
          "text": [
            "WARNING:tensorflow:TPU system grpc://10.30.125.34:8470 has already been initialized. Reinitializing the TPU can cause previously created variables on TPU to be lost.\n"
          ],
          "name": "stdout"
        },
        {
          "output_type": "stream",
          "text": [
            "WARNING:tensorflow:TPU system grpc://10.30.125.34:8470 has already been initialized. Reinitializing the TPU can cause previously created variables on TPU to be lost.\n"
          ],
          "name": "stderr"
        },
        {
          "output_type": "stream",
          "text": [
            "INFO:tensorflow:Initializing the TPU system: grpc://10.30.125.34:8470\n"
          ],
          "name": "stdout"
        },
        {
          "output_type": "stream",
          "text": [
            "INFO:tensorflow:Initializing the TPU system: grpc://10.30.125.34:8470\n"
          ],
          "name": "stderr"
        },
        {
          "output_type": "stream",
          "text": [
            "INFO:tensorflow:Clearing out eager caches\n"
          ],
          "name": "stdout"
        },
        {
          "output_type": "stream",
          "text": [
            "INFO:tensorflow:Clearing out eager caches\n"
          ],
          "name": "stderr"
        },
        {
          "output_type": "stream",
          "text": [
            "INFO:tensorflow:Finished initializing TPU system.\n"
          ],
          "name": "stdout"
        },
        {
          "output_type": "stream",
          "text": [
            "INFO:tensorflow:Finished initializing TPU system.\n",
            "WARNING:absl:`tf.distribute.experimental.TPUStrategy` is deprecated, please use  the non experimental symbol `tf.distribute.TPUStrategy` instead.\n"
          ],
          "name": "stderr"
        },
        {
          "output_type": "stream",
          "text": [
            "INFO:tensorflow:Found TPU system:\n"
          ],
          "name": "stdout"
        },
        {
          "output_type": "stream",
          "text": [
            "INFO:tensorflow:Found TPU system:\n"
          ],
          "name": "stderr"
        },
        {
          "output_type": "stream",
          "text": [
            "INFO:tensorflow:*** Num TPU Cores: 8\n"
          ],
          "name": "stdout"
        },
        {
          "output_type": "stream",
          "text": [
            "INFO:tensorflow:*** Num TPU Cores: 8\n"
          ],
          "name": "stderr"
        },
        {
          "output_type": "stream",
          "text": [
            "INFO:tensorflow:*** Num TPU Workers: 1\n"
          ],
          "name": "stdout"
        },
        {
          "output_type": "stream",
          "text": [
            "INFO:tensorflow:*** Num TPU Workers: 1\n"
          ],
          "name": "stderr"
        },
        {
          "output_type": "stream",
          "text": [
            "INFO:tensorflow:*** Num TPU Cores Per Worker: 8\n"
          ],
          "name": "stdout"
        },
        {
          "output_type": "stream",
          "text": [
            "INFO:tensorflow:*** Num TPU Cores Per Worker: 8\n"
          ],
          "name": "stderr"
        },
        {
          "output_type": "stream",
          "text": [
            "INFO:tensorflow:*** Available Device: _DeviceAttributes(/job:localhost/replica:0/task:0/device:CPU:0, CPU, 0, 0)\n"
          ],
          "name": "stdout"
        },
        {
          "output_type": "stream",
          "text": [
            "INFO:tensorflow:*** Available Device: _DeviceAttributes(/job:localhost/replica:0/task:0/device:CPU:0, CPU, 0, 0)\n"
          ],
          "name": "stderr"
        },
        {
          "output_type": "stream",
          "text": [
            "INFO:tensorflow:*** Available Device: _DeviceAttributes(/job:localhost/replica:0/task:0/device:XLA_CPU:0, XLA_CPU, 0, 0)\n"
          ],
          "name": "stdout"
        },
        {
          "output_type": "stream",
          "text": [
            "INFO:tensorflow:*** Available Device: _DeviceAttributes(/job:localhost/replica:0/task:0/device:XLA_CPU:0, XLA_CPU, 0, 0)\n"
          ],
          "name": "stderr"
        },
        {
          "output_type": "stream",
          "text": [
            "INFO:tensorflow:*** Available Device: _DeviceAttributes(/job:worker/replica:0/task:0/device:CPU:0, CPU, 0, 0)\n"
          ],
          "name": "stdout"
        },
        {
          "output_type": "stream",
          "text": [
            "INFO:tensorflow:*** Available Device: _DeviceAttributes(/job:worker/replica:0/task:0/device:CPU:0, CPU, 0, 0)\n"
          ],
          "name": "stderr"
        },
        {
          "output_type": "stream",
          "text": [
            "INFO:tensorflow:*** Available Device: _DeviceAttributes(/job:worker/replica:0/task:0/device:TPU:0, TPU, 0, 0)\n"
          ],
          "name": "stdout"
        },
        {
          "output_type": "stream",
          "text": [
            "INFO:tensorflow:*** Available Device: _DeviceAttributes(/job:worker/replica:0/task:0/device:TPU:0, TPU, 0, 0)\n"
          ],
          "name": "stderr"
        },
        {
          "output_type": "stream",
          "text": [
            "INFO:tensorflow:*** Available Device: _DeviceAttributes(/job:worker/replica:0/task:0/device:TPU:1, TPU, 0, 0)\n"
          ],
          "name": "stdout"
        },
        {
          "output_type": "stream",
          "text": [
            "INFO:tensorflow:*** Available Device: _DeviceAttributes(/job:worker/replica:0/task:0/device:TPU:1, TPU, 0, 0)\n"
          ],
          "name": "stderr"
        },
        {
          "output_type": "stream",
          "text": [
            "INFO:tensorflow:*** Available Device: _DeviceAttributes(/job:worker/replica:0/task:0/device:TPU:2, TPU, 0, 0)\n"
          ],
          "name": "stdout"
        },
        {
          "output_type": "stream",
          "text": [
            "INFO:tensorflow:*** Available Device: _DeviceAttributes(/job:worker/replica:0/task:0/device:TPU:2, TPU, 0, 0)\n"
          ],
          "name": "stderr"
        },
        {
          "output_type": "stream",
          "text": [
            "INFO:tensorflow:*** Available Device: _DeviceAttributes(/job:worker/replica:0/task:0/device:TPU:3, TPU, 0, 0)\n"
          ],
          "name": "stdout"
        },
        {
          "output_type": "stream",
          "text": [
            "INFO:tensorflow:*** Available Device: _DeviceAttributes(/job:worker/replica:0/task:0/device:TPU:3, TPU, 0, 0)\n"
          ],
          "name": "stderr"
        },
        {
          "output_type": "stream",
          "text": [
            "INFO:tensorflow:*** Available Device: _DeviceAttributes(/job:worker/replica:0/task:0/device:TPU:4, TPU, 0, 0)\n"
          ],
          "name": "stdout"
        },
        {
          "output_type": "stream",
          "text": [
            "INFO:tensorflow:*** Available Device: _DeviceAttributes(/job:worker/replica:0/task:0/device:TPU:4, TPU, 0, 0)\n"
          ],
          "name": "stderr"
        },
        {
          "output_type": "stream",
          "text": [
            "INFO:tensorflow:*** Available Device: _DeviceAttributes(/job:worker/replica:0/task:0/device:TPU:5, TPU, 0, 0)\n"
          ],
          "name": "stdout"
        },
        {
          "output_type": "stream",
          "text": [
            "INFO:tensorflow:*** Available Device: _DeviceAttributes(/job:worker/replica:0/task:0/device:TPU:5, TPU, 0, 0)\n"
          ],
          "name": "stderr"
        },
        {
          "output_type": "stream",
          "text": [
            "INFO:tensorflow:*** Available Device: _DeviceAttributes(/job:worker/replica:0/task:0/device:TPU:6, TPU, 0, 0)\n"
          ],
          "name": "stdout"
        },
        {
          "output_type": "stream",
          "text": [
            "INFO:tensorflow:*** Available Device: _DeviceAttributes(/job:worker/replica:0/task:0/device:TPU:6, TPU, 0, 0)\n"
          ],
          "name": "stderr"
        },
        {
          "output_type": "stream",
          "text": [
            "INFO:tensorflow:*** Available Device: _DeviceAttributes(/job:worker/replica:0/task:0/device:TPU:7, TPU, 0, 0)\n"
          ],
          "name": "stdout"
        },
        {
          "output_type": "stream",
          "text": [
            "INFO:tensorflow:*** Available Device: _DeviceAttributes(/job:worker/replica:0/task:0/device:TPU:7, TPU, 0, 0)\n"
          ],
          "name": "stderr"
        },
        {
          "output_type": "stream",
          "text": [
            "INFO:tensorflow:*** Available Device: _DeviceAttributes(/job:worker/replica:0/task:0/device:TPU_SYSTEM:0, TPU_SYSTEM, 0, 0)\n"
          ],
          "name": "stdout"
        },
        {
          "output_type": "stream",
          "text": [
            "INFO:tensorflow:*** Available Device: _DeviceAttributes(/job:worker/replica:0/task:0/device:TPU_SYSTEM:0, TPU_SYSTEM, 0, 0)\n"
          ],
          "name": "stderr"
        },
        {
          "output_type": "stream",
          "text": [
            "INFO:tensorflow:*** Available Device: _DeviceAttributes(/job:worker/replica:0/task:0/device:XLA_CPU:0, XLA_CPU, 0, 0)\n"
          ],
          "name": "stdout"
        },
        {
          "output_type": "stream",
          "text": [
            "INFO:tensorflow:*** Available Device: _DeviceAttributes(/job:worker/replica:0/task:0/device:XLA_CPU:0, XLA_CPU, 0, 0)\n",
            "Some layers from the model checkpoint at bert-base-uncased were not used when initializing TFBertModel: ['mlm___cls', 'nsp___cls']\n",
            "- This IS expected if you are initializing TFBertModel from the checkpoint of a model trained on another task or with another architecture (e.g. initializing a BertForSequenceClassification model from a BertForPretraining model).\n",
            "- This IS NOT expected if you are initializing TFBertModel from the checkpoint of a model that you expect to be exactly identical (initializing a BertForSequenceClassification model from a BertForSequenceClassification model).\n",
            "All the layers of TFBertModel were initialized from the model checkpoint at bert-base-uncased.\n",
            "If your task is similar to the task the model of the checkpoint was trained on, you can already use TFBertModel for predictions without further training.\n"
          ],
          "name": "stderr"
        },
        {
          "output_type": "stream",
          "text": [
            "Model: \"functional_3\"\n",
            "__________________________________________________________________________________________________\n",
            "Layer (type)                    Output Shape         Param #     Connected to                     \n",
            "==================================================================================================\n",
            "input_4 (InputLayer)            [(None, 384)]        0                                            \n",
            "__________________________________________________________________________________________________\n",
            "input_5 (InputLayer)            [(None, 384)]        0                                            \n",
            "__________________________________________________________________________________________________\n",
            "input_6 (InputLayer)            [(None, 384)]        0                                            \n",
            "__________________________________________________________________________________________________\n",
            "tf_bert_model_1 (TFBertModel)   ((None, 384, 768), ( 109482240   input_4[0][0]                    \n",
            "                                                                 input_5[0][0]                    \n",
            "                                                                 input_6[0][0]                    \n",
            "__________________________________________________________________________________________________\n",
            "dense_2 (Dense)                 (None, 384, 1)       768         tf_bert_model_1[0][0]            \n",
            "__________________________________________________________________________________________________\n",
            "dense_3 (Dense)                 (None, 384, 1)       768         tf_bert_model_1[0][0]            \n",
            "__________________________________________________________________________________________________\n",
            "flatten_2 (Flatten)             (None, 384)          0           dense_2[0][0]                    \n",
            "__________________________________________________________________________________________________\n",
            "flatten_3 (Flatten)             (None, 384)          0           dense_3[0][0]                    \n",
            "__________________________________________________________________________________________________\n",
            "activation_6 (Activation)       (None, 384)          0           flatten_2[0][0]                  \n",
            "__________________________________________________________________________________________________\n",
            "activation_7 (Activation)       (None, 384)          0           flatten_3[0][0]                  \n",
            "==================================================================================================\n",
            "Total params: 109,483,776\n",
            "Trainable params: 109,483,776\n",
            "Non-trainable params: 0\n",
            "__________________________________________________________________________________________________\n"
          ],
          "name": "stdout"
        }
      ]
    },
    {
      "cell_type": "markdown",
      "metadata": {
        "id": "370gew5DFcC1"
      },
      "source": [
        "## Train and evaluate model on validation data"
      ]
    },
    {
      "cell_type": "code",
      "metadata": {
        "id": "GdnA4iyqv80Y"
      },
      "source": [
        "def normalizeText(text):\n",
        "    # lower case\n",
        "    text = text.lower()\n",
        "    #remove a, an, the \n",
        "    regex = re.compile(r\"\\b(a|an|the)\\b\", re.UNICODE)\n",
        "    text = re.sub(regex, \" \", text)\n",
        "\n",
        "    #remove puctuation\n",
        "    puctuation = set(string.punctuation)\n",
        "    text = \"\".join(_ for _ in text if _ not in puctuation)\n",
        "    #remove extra white spaces\n",
        "    text = \" \".join(text.split())\n",
        "    return text\n",
        "\n",
        "class ExactMatchCallback(tf.keras.callbacks.Callback):\n",
        "    def __init__(self, x_eval, y_eval):\n",
        "        self.x_eval=x_eval\n",
        "        self.y_eval=y_eval\n",
        "\n",
        "    def on_epoch_end(self,epoch,logs=None):\n",
        "        pred_start, pred_end = self.model.predict(self.x_eval)\n",
        "        valid_examples = [_ for _ in sQUADEval if _.validExample]\n",
        "        counter = 0\n",
        "        for idx, (start,end) in enumerate(zip(pred_start, pred_end)):\n",
        "            squadV = valid_examples[idx]\n",
        "            #start and end is max_len-demensionality vector.\n",
        "            token_idx_start = np.argmax(start)\n",
        "            token_idx_end = np.argmax(end)\n",
        "            if (token_idx_start >= len(squadV.offsets)):\n",
        "                continue\n",
        "            # start and end indices in context\n",
        "            start_char_idx = squadV.offsets[token_idx_start][0]\n",
        "    \n",
        "            #predicted answer\n",
        "            if (token_idx_end < len(squadV.offsets)):\n",
        "                end_char_idx = squadV.offsets[token_idx_end][1]\n",
        "                predictedAnswer = squadV.context[start_char_idx:end_char_idx]\n",
        "            else:\n",
        "                predictedAnswer = squadV.context[start_char_idx:]\n",
        "            #normalize texts to check similarity with the other available answers\n",
        "            available_answers = [normalizeText(_) for _ in squadV.more_answers]\n",
        "            predictedAnswer = normalizeText(predictedAnswer)\n",
        "            #Check for similarity of answers\n",
        "            if (predictedAnswer in available_answers):\n",
        "                counter+=1\n",
        "        acc = counter/len(self.y_eval[0])\n",
        "        print()\n",
        "        print(\"Exact Match: \", acc)    \n",
        "\n"
      ],
      "execution_count": 30,
      "outputs": []
    },
    {
      "cell_type": "code",
      "metadata": {
        "id": "Itw9n_lF243Z",
        "outputId": "0d5375cf-2178-46b1-94b1-4cfcf956ca2a",
        "colab": {
          "base_uri": "https://localhost:8080/"
        }
      },
      "source": [
        "history = model.fit(x=XTrain, y=YTrain, batch_size= 64, epochs=3, verbose=1, callbacks=[ExactMatchCallback(XEval,YEval)])\n"
      ],
      "execution_count": 31,
      "outputs": [
        {
          "output_type": "stream",
          "text": [
            "Epoch 1/3\n",
            "WARNING:tensorflow:Gradients do not exist for variables ['tf_bert_model_1/bert/pooler/dense/kernel:0', 'tf_bert_model_1/bert/pooler/dense/bias:0'] when minimizing the loss.\n"
          ],
          "name": "stdout"
        },
        {
          "output_type": "stream",
          "text": [
            "WARNING:tensorflow:Gradients do not exist for variables ['tf_bert_model_1/bert/pooler/dense/kernel:0', 'tf_bert_model_1/bert/pooler/dense/bias:0'] when minimizing the loss.\n"
          ],
          "name": "stderr"
        },
        {
          "output_type": "stream",
          "text": [
            "WARNING:tensorflow:Gradients do not exist for variables ['tf_bert_model_1/bert/pooler/dense/kernel:0', 'tf_bert_model_1/bert/pooler/dense/bias:0'] when minimizing the loss.\n"
          ],
          "name": "stdout"
        },
        {
          "output_type": "stream",
          "text": [
            "WARNING:tensorflow:Gradients do not exist for variables ['tf_bert_model_1/bert/pooler/dense/kernel:0', 'tf_bert_model_1/bert/pooler/dense/bias:0'] when minimizing the loss.\n"
          ],
          "name": "stderr"
        },
        {
          "output_type": "stream",
          "text": [
            "WARNING:tensorflow:Gradients do not exist for variables ['tf_bert_model_1/bert/pooler/dense/kernel:0', 'tf_bert_model_1/bert/pooler/dense/bias:0'] when minimizing the loss.\n"
          ],
          "name": "stdout"
        },
        {
          "output_type": "stream",
          "text": [
            "WARNING:tensorflow:Gradients do not exist for variables ['tf_bert_model_1/bert/pooler/dense/kernel:0', 'tf_bert_model_1/bert/pooler/dense/bias:0'] when minimizing the loss.\n"
          ],
          "name": "stderr"
        },
        {
          "output_type": "stream",
          "text": [
            "WARNING:tensorflow:Gradients do not exist for variables ['tf_bert_model_1/bert/pooler/dense/kernel:0', 'tf_bert_model_1/bert/pooler/dense/bias:0'] when minimizing the loss.\n"
          ],
          "name": "stdout"
        },
        {
          "output_type": "stream",
          "text": [
            "WARNING:tensorflow:Gradients do not exist for variables ['tf_bert_model_1/bert/pooler/dense/kernel:0', 'tf_bert_model_1/bert/pooler/dense/bias:0'] when minimizing the loss.\n"
          ],
          "name": "stderr"
        },
        {
          "output_type": "stream",
          "text": [
            "   2/1346 [..............................] - ETA: 2:37 - loss: 12.1203 - activation_6_loss: 6.2390 - activation_7_loss: 5.8813WARNING:tensorflow:Callbacks method `on_train_batch_end` is slow compared to the batch time (batch time: 0.0116s vs `on_train_batch_end` time: 0.2171s). Check your callbacks.\n"
          ],
          "name": "stdout"
        },
        {
          "output_type": "stream",
          "text": [
            "WARNING:tensorflow:Callbacks method `on_train_batch_end` is slow compared to the batch time (batch time: 0.0116s vs `on_train_batch_end` time: 0.2171s). Check your callbacks.\n"
          ],
          "name": "stderr"
        },
        {
          "output_type": "stream",
          "text": [
            "1346/1346 [==============================] - ETA: 0s - loss: 2.5592 - activation_6_loss: 1.3376 - activation_7_loss: 1.2216\n",
            "Exact Match:  0.7742716097183235\n",
            "1346/1346 [==============================] - 368s 274ms/step - loss: 2.5592 - activation_6_loss: 1.3376 - activation_7_loss: 1.2216\n",
            "Epoch 2/3\n",
            "1346/1346 [==============================] - ETA: 0s - loss: 1.5535 - activation_6_loss: 0.8258 - activation_7_loss: 0.7277\n",
            "Exact Match:  0.7890814054786565\n",
            "1346/1346 [==============================] - 319s 237ms/step - loss: 1.5535 - activation_6_loss: 0.8258 - activation_7_loss: 0.7277\n",
            "Epoch 3/3\n",
            "1346/1346 [==============================] - ETA: 0s - loss: 1.1028 - activation_6_loss: 0.5919 - activation_7_loss: 0.5109\n",
            "Exact Match:  0.7794018004065434\n",
            "1346/1346 [==============================] - 318s 236ms/step - loss: 1.1028 - activation_6_loss: 0.5919 - activation_7_loss: 0.5109\n"
          ],
          "name": "stdout"
        }
      ]
    },
    {
      "cell_type": "code",
      "metadata": {
        "id": "_BnfZgcfeTqn"
      },
      "source": [
        ""
      ],
      "execution_count": null,
      "outputs": []
    }
  ]
}