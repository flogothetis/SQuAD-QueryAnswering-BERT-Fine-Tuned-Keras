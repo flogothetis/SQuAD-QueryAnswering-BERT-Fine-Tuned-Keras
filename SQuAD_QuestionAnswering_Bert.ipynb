{
  "nbformat": 4,
  "nbformat_minor": 0,
  "metadata": {
    "colab": {
      "name": "SQuAD-QuestionAnswering-Bert.ipynb",
      "provenance": [],
      "collapsed_sections": [],
      "mount_file_id": "1B0lt_z9hUTszLoqB_AvQvCesKK8B76wE",
      "authorship_tag": "ABX9TyPDKkrL7EkDdNd+FvzqcTDD"
    },
    "kernelspec": {
      "name": "python3",
      "display_name": "Python 3"
    },
    "accelerator": "TPU",
    "widgets": {
      "application/vnd.jupyter.widget-state+json": {
        "68c8902ba6c944baa02baf95381c2603": {
          "model_module": "@jupyter-widgets/controls",
          "model_name": "HBoxModel",
          "state": {
            "_view_name": "HBoxView",
            "_dom_classes": [],
            "_model_name": "HBoxModel",
            "_view_module": "@jupyter-widgets/controls",
            "_model_module_version": "1.5.0",
            "_view_count": null,
            "_view_module_version": "1.5.0",
            "box_style": "",
            "layout": "IPY_MODEL_8f38a92947dc43058fd25e72feefa99d",
            "_model_module": "@jupyter-widgets/controls",
            "children": [
              "IPY_MODEL_f27a849470384332b33bf8656d4fa70f",
              "IPY_MODEL_84455837a3d145d69fd55b6dd6f7f421"
            ]
          }
        },
        "8f38a92947dc43058fd25e72feefa99d": {
          "model_module": "@jupyter-widgets/base",
          "model_name": "LayoutModel",
          "state": {
            "_view_name": "LayoutView",
            "grid_template_rows": null,
            "right": null,
            "justify_content": null,
            "_view_module": "@jupyter-widgets/base",
            "overflow": null,
            "_model_module_version": "1.2.0",
            "_view_count": null,
            "flex_flow": null,
            "width": null,
            "min_width": null,
            "border": null,
            "align_items": null,
            "bottom": null,
            "_model_module": "@jupyter-widgets/base",
            "top": null,
            "grid_column": null,
            "overflow_y": null,
            "overflow_x": null,
            "grid_auto_flow": null,
            "grid_area": null,
            "grid_template_columns": null,
            "flex": null,
            "_model_name": "LayoutModel",
            "justify_items": null,
            "grid_row": null,
            "max_height": null,
            "align_content": null,
            "visibility": null,
            "align_self": null,
            "height": null,
            "min_height": null,
            "padding": null,
            "grid_auto_rows": null,
            "grid_gap": null,
            "max_width": null,
            "order": null,
            "_view_module_version": "1.2.0",
            "grid_template_areas": null,
            "object_position": null,
            "object_fit": null,
            "grid_auto_columns": null,
            "margin": null,
            "display": null,
            "left": null
          }
        },
        "f27a849470384332b33bf8656d4fa70f": {
          "model_module": "@jupyter-widgets/controls",
          "model_name": "FloatProgressModel",
          "state": {
            "_view_name": "ProgressView",
            "style": "IPY_MODEL_05ed4eebb4864d0c80f7dc951551babb",
            "_dom_classes": [],
            "description": "Downloading: 100%",
            "_model_name": "FloatProgressModel",
            "bar_style": "success",
            "max": 231508,
            "_view_module": "@jupyter-widgets/controls",
            "_model_module_version": "1.5.0",
            "value": 231508,
            "_view_count": null,
            "_view_module_version": "1.5.0",
            "orientation": "horizontal",
            "min": 0,
            "description_tooltip": null,
            "_model_module": "@jupyter-widgets/controls",
            "layout": "IPY_MODEL_cb6893386202414c82eaeaf2826714fa"
          }
        },
        "84455837a3d145d69fd55b6dd6f7f421": {
          "model_module": "@jupyter-widgets/controls",
          "model_name": "HTMLModel",
          "state": {
            "_view_name": "HTMLView",
            "style": "IPY_MODEL_df0fcfb102434888baf1f501e3ef54d4",
            "_dom_classes": [],
            "description": "",
            "_model_name": "HTMLModel",
            "placeholder": "​",
            "_view_module": "@jupyter-widgets/controls",
            "_model_module_version": "1.5.0",
            "value": " 232k/232k [00:00&lt;00:00, 1.29MB/s]",
            "_view_count": null,
            "_view_module_version": "1.5.0",
            "description_tooltip": null,
            "_model_module": "@jupyter-widgets/controls",
            "layout": "IPY_MODEL_d1db30ebde1c473ba488e925a6ed188b"
          }
        },
        "05ed4eebb4864d0c80f7dc951551babb": {
          "model_module": "@jupyter-widgets/controls",
          "model_name": "ProgressStyleModel",
          "state": {
            "_view_name": "StyleView",
            "_model_name": "ProgressStyleModel",
            "description_width": "initial",
            "_view_module": "@jupyter-widgets/base",
            "_model_module_version": "1.5.0",
            "_view_count": null,
            "_view_module_version": "1.2.0",
            "bar_color": null,
            "_model_module": "@jupyter-widgets/controls"
          }
        },
        "cb6893386202414c82eaeaf2826714fa": {
          "model_module": "@jupyter-widgets/base",
          "model_name": "LayoutModel",
          "state": {
            "_view_name": "LayoutView",
            "grid_template_rows": null,
            "right": null,
            "justify_content": null,
            "_view_module": "@jupyter-widgets/base",
            "overflow": null,
            "_model_module_version": "1.2.0",
            "_view_count": null,
            "flex_flow": null,
            "width": null,
            "min_width": null,
            "border": null,
            "align_items": null,
            "bottom": null,
            "_model_module": "@jupyter-widgets/base",
            "top": null,
            "grid_column": null,
            "overflow_y": null,
            "overflow_x": null,
            "grid_auto_flow": null,
            "grid_area": null,
            "grid_template_columns": null,
            "flex": null,
            "_model_name": "LayoutModel",
            "justify_items": null,
            "grid_row": null,
            "max_height": null,
            "align_content": null,
            "visibility": null,
            "align_self": null,
            "height": null,
            "min_height": null,
            "padding": null,
            "grid_auto_rows": null,
            "grid_gap": null,
            "max_width": null,
            "order": null,
            "_view_module_version": "1.2.0",
            "grid_template_areas": null,
            "object_position": null,
            "object_fit": null,
            "grid_auto_columns": null,
            "margin": null,
            "display": null,
            "left": null
          }
        },
        "df0fcfb102434888baf1f501e3ef54d4": {
          "model_module": "@jupyter-widgets/controls",
          "model_name": "DescriptionStyleModel",
          "state": {
            "_view_name": "StyleView",
            "_model_name": "DescriptionStyleModel",
            "description_width": "",
            "_view_module": "@jupyter-widgets/base",
            "_model_module_version": "1.5.0",
            "_view_count": null,
            "_view_module_version": "1.2.0",
            "_model_module": "@jupyter-widgets/controls"
          }
        },
        "d1db30ebde1c473ba488e925a6ed188b": {
          "model_module": "@jupyter-widgets/base",
          "model_name": "LayoutModel",
          "state": {
            "_view_name": "LayoutView",
            "grid_template_rows": null,
            "right": null,
            "justify_content": null,
            "_view_module": "@jupyter-widgets/base",
            "overflow": null,
            "_model_module_version": "1.2.0",
            "_view_count": null,
            "flex_flow": null,
            "width": null,
            "min_width": null,
            "border": null,
            "align_items": null,
            "bottom": null,
            "_model_module": "@jupyter-widgets/base",
            "top": null,
            "grid_column": null,
            "overflow_y": null,
            "overflow_x": null,
            "grid_auto_flow": null,
            "grid_area": null,
            "grid_template_columns": null,
            "flex": null,
            "_model_name": "LayoutModel",
            "justify_items": null,
            "grid_row": null,
            "max_height": null,
            "align_content": null,
            "visibility": null,
            "align_self": null,
            "height": null,
            "min_height": null,
            "padding": null,
            "grid_auto_rows": null,
            "grid_gap": null,
            "max_width": null,
            "order": null,
            "_view_module_version": "1.2.0",
            "grid_template_areas": null,
            "object_position": null,
            "object_fit": null,
            "grid_auto_columns": null,
            "margin": null,
            "display": null,
            "left": null
          }
        },
        "bcde71ba9c5e4a19b0648e481aabd1fa": {
          "model_module": "@jupyter-widgets/controls",
          "model_name": "HBoxModel",
          "state": {
            "_view_name": "HBoxView",
            "_dom_classes": [],
            "_model_name": "HBoxModel",
            "_view_module": "@jupyter-widgets/controls",
            "_model_module_version": "1.5.0",
            "_view_count": null,
            "_view_module_version": "1.5.0",
            "box_style": "",
            "layout": "IPY_MODEL_77dcb768f3cb4df78c46743da5466e24",
            "_model_module": "@jupyter-widgets/controls",
            "children": [
              "IPY_MODEL_81b9f29deeab40ac8ead18de93f67b84",
              "IPY_MODEL_6aa9d9b41780429fb53c3601f0034dda"
            ]
          }
        },
        "77dcb768f3cb4df78c46743da5466e24": {
          "model_module": "@jupyter-widgets/base",
          "model_name": "LayoutModel",
          "state": {
            "_view_name": "LayoutView",
            "grid_template_rows": null,
            "right": null,
            "justify_content": null,
            "_view_module": "@jupyter-widgets/base",
            "overflow": null,
            "_model_module_version": "1.2.0",
            "_view_count": null,
            "flex_flow": null,
            "width": null,
            "min_width": null,
            "border": null,
            "align_items": null,
            "bottom": null,
            "_model_module": "@jupyter-widgets/base",
            "top": null,
            "grid_column": null,
            "overflow_y": null,
            "overflow_x": null,
            "grid_auto_flow": null,
            "grid_area": null,
            "grid_template_columns": null,
            "flex": null,
            "_model_name": "LayoutModel",
            "justify_items": null,
            "grid_row": null,
            "max_height": null,
            "align_content": null,
            "visibility": null,
            "align_self": null,
            "height": null,
            "min_height": null,
            "padding": null,
            "grid_auto_rows": null,
            "grid_gap": null,
            "max_width": null,
            "order": null,
            "_view_module_version": "1.2.0",
            "grid_template_areas": null,
            "object_position": null,
            "object_fit": null,
            "grid_auto_columns": null,
            "margin": null,
            "display": null,
            "left": null
          }
        },
        "81b9f29deeab40ac8ead18de93f67b84": {
          "model_module": "@jupyter-widgets/controls",
          "model_name": "FloatProgressModel",
          "state": {
            "_view_name": "ProgressView",
            "style": "IPY_MODEL_aafeb0d46df14e20b32c66dc3c380848",
            "_dom_classes": [],
            "description": "Downloading: 100%",
            "_model_name": "FloatProgressModel",
            "bar_style": "success",
            "max": 433,
            "_view_module": "@jupyter-widgets/controls",
            "_model_module_version": "1.5.0",
            "value": 433,
            "_view_count": null,
            "_view_module_version": "1.5.0",
            "orientation": "horizontal",
            "min": 0,
            "description_tooltip": null,
            "_model_module": "@jupyter-widgets/controls",
            "layout": "IPY_MODEL_58701879b8044bb48a9509c7e8345dda"
          }
        },
        "6aa9d9b41780429fb53c3601f0034dda": {
          "model_module": "@jupyter-widgets/controls",
          "model_name": "HTMLModel",
          "state": {
            "_view_name": "HTMLView",
            "style": "IPY_MODEL_55e4220c8efb4fa7b1241b29710bf8a2",
            "_dom_classes": [],
            "description": "",
            "_model_name": "HTMLModel",
            "placeholder": "​",
            "_view_module": "@jupyter-widgets/controls",
            "_model_module_version": "1.5.0",
            "value": " 433/433 [00:00&lt;00:00, 1.26kB/s]",
            "_view_count": null,
            "_view_module_version": "1.5.0",
            "description_tooltip": null,
            "_model_module": "@jupyter-widgets/controls",
            "layout": "IPY_MODEL_c5e1df95c17f4ea2855b2dcfa0cab951"
          }
        },
        "aafeb0d46df14e20b32c66dc3c380848": {
          "model_module": "@jupyter-widgets/controls",
          "model_name": "ProgressStyleModel",
          "state": {
            "_view_name": "StyleView",
            "_model_name": "ProgressStyleModel",
            "description_width": "initial",
            "_view_module": "@jupyter-widgets/base",
            "_model_module_version": "1.5.0",
            "_view_count": null,
            "_view_module_version": "1.2.0",
            "bar_color": null,
            "_model_module": "@jupyter-widgets/controls"
          }
        },
        "58701879b8044bb48a9509c7e8345dda": {
          "model_module": "@jupyter-widgets/base",
          "model_name": "LayoutModel",
          "state": {
            "_view_name": "LayoutView",
            "grid_template_rows": null,
            "right": null,
            "justify_content": null,
            "_view_module": "@jupyter-widgets/base",
            "overflow": null,
            "_model_module_version": "1.2.0",
            "_view_count": null,
            "flex_flow": null,
            "width": null,
            "min_width": null,
            "border": null,
            "align_items": null,
            "bottom": null,
            "_model_module": "@jupyter-widgets/base",
            "top": null,
            "grid_column": null,
            "overflow_y": null,
            "overflow_x": null,
            "grid_auto_flow": null,
            "grid_area": null,
            "grid_template_columns": null,
            "flex": null,
            "_model_name": "LayoutModel",
            "justify_items": null,
            "grid_row": null,
            "max_height": null,
            "align_content": null,
            "visibility": null,
            "align_self": null,
            "height": null,
            "min_height": null,
            "padding": null,
            "grid_auto_rows": null,
            "grid_gap": null,
            "max_width": null,
            "order": null,
            "_view_module_version": "1.2.0",
            "grid_template_areas": null,
            "object_position": null,
            "object_fit": null,
            "grid_auto_columns": null,
            "margin": null,
            "display": null,
            "left": null
          }
        },
        "55e4220c8efb4fa7b1241b29710bf8a2": {
          "model_module": "@jupyter-widgets/controls",
          "model_name": "DescriptionStyleModel",
          "state": {
            "_view_name": "StyleView",
            "_model_name": "DescriptionStyleModel",
            "description_width": "",
            "_view_module": "@jupyter-widgets/base",
            "_model_module_version": "1.5.0",
            "_view_count": null,
            "_view_module_version": "1.2.0",
            "_model_module": "@jupyter-widgets/controls"
          }
        },
        "c5e1df95c17f4ea2855b2dcfa0cab951": {
          "model_module": "@jupyter-widgets/base",
          "model_name": "LayoutModel",
          "state": {
            "_view_name": "LayoutView",
            "grid_template_rows": null,
            "right": null,
            "justify_content": null,
            "_view_module": "@jupyter-widgets/base",
            "overflow": null,
            "_model_module_version": "1.2.0",
            "_view_count": null,
            "flex_flow": null,
            "width": null,
            "min_width": null,
            "border": null,
            "align_items": null,
            "bottom": null,
            "_model_module": "@jupyter-widgets/base",
            "top": null,
            "grid_column": null,
            "overflow_y": null,
            "overflow_x": null,
            "grid_auto_flow": null,
            "grid_area": null,
            "grid_template_columns": null,
            "flex": null,
            "_model_name": "LayoutModel",
            "justify_items": null,
            "grid_row": null,
            "max_height": null,
            "align_content": null,
            "visibility": null,
            "align_self": null,
            "height": null,
            "min_height": null,
            "padding": null,
            "grid_auto_rows": null,
            "grid_gap": null,
            "max_width": null,
            "order": null,
            "_view_module_version": "1.2.0",
            "grid_template_areas": null,
            "object_position": null,
            "object_fit": null,
            "grid_auto_columns": null,
            "margin": null,
            "display": null,
            "left": null
          }
        },
        "657a2fc9c8cc45ce9bd90e496225d0c0": {
          "model_module": "@jupyter-widgets/controls",
          "model_name": "HBoxModel",
          "state": {
            "_view_name": "HBoxView",
            "_dom_classes": [],
            "_model_name": "HBoxModel",
            "_view_module": "@jupyter-widgets/controls",
            "_model_module_version": "1.5.0",
            "_view_count": null,
            "_view_module_version": "1.5.0",
            "box_style": "",
            "layout": "IPY_MODEL_ae774a325d3543598f4f61ec53d83f43",
            "_model_module": "@jupyter-widgets/controls",
            "children": [
              "IPY_MODEL_f1c23651a3074fe2983cf7c3db6a07fb",
              "IPY_MODEL_ac88a50ca26f489fbd0c866852787200"
            ]
          }
        },
        "ae774a325d3543598f4f61ec53d83f43": {
          "model_module": "@jupyter-widgets/base",
          "model_name": "LayoutModel",
          "state": {
            "_view_name": "LayoutView",
            "grid_template_rows": null,
            "right": null,
            "justify_content": null,
            "_view_module": "@jupyter-widgets/base",
            "overflow": null,
            "_model_module_version": "1.2.0",
            "_view_count": null,
            "flex_flow": null,
            "width": null,
            "min_width": null,
            "border": null,
            "align_items": null,
            "bottom": null,
            "_model_module": "@jupyter-widgets/base",
            "top": null,
            "grid_column": null,
            "overflow_y": null,
            "overflow_x": null,
            "grid_auto_flow": null,
            "grid_area": null,
            "grid_template_columns": null,
            "flex": null,
            "_model_name": "LayoutModel",
            "justify_items": null,
            "grid_row": null,
            "max_height": null,
            "align_content": null,
            "visibility": null,
            "align_self": null,
            "height": null,
            "min_height": null,
            "padding": null,
            "grid_auto_rows": null,
            "grid_gap": null,
            "max_width": null,
            "order": null,
            "_view_module_version": "1.2.0",
            "grid_template_areas": null,
            "object_position": null,
            "object_fit": null,
            "grid_auto_columns": null,
            "margin": null,
            "display": null,
            "left": null
          }
        },
        "f1c23651a3074fe2983cf7c3db6a07fb": {
          "model_module": "@jupyter-widgets/controls",
          "model_name": "FloatProgressModel",
          "state": {
            "_view_name": "ProgressView",
            "style": "IPY_MODEL_5159ed24c84044ef85b8221a03734027",
            "_dom_classes": [],
            "description": "Downloading: 100%",
            "_model_name": "FloatProgressModel",
            "bar_style": "success",
            "max": 536063208,
            "_view_module": "@jupyter-widgets/controls",
            "_model_module_version": "1.5.0",
            "value": 536063208,
            "_view_count": null,
            "_view_module_version": "1.5.0",
            "orientation": "horizontal",
            "min": 0,
            "description_tooltip": null,
            "_model_module": "@jupyter-widgets/controls",
            "layout": "IPY_MODEL_3843ca1d088b409dbaddea95a0cb7d9c"
          }
        },
        "ac88a50ca26f489fbd0c866852787200": {
          "model_module": "@jupyter-widgets/controls",
          "model_name": "HTMLModel",
          "state": {
            "_view_name": "HTMLView",
            "style": "IPY_MODEL_3532d384eb0e4823aa2e99934214091d",
            "_dom_classes": [],
            "description": "",
            "_model_name": "HTMLModel",
            "placeholder": "​",
            "_view_module": "@jupyter-widgets/controls",
            "_model_module_version": "1.5.0",
            "value": " 536M/536M [00:20&lt;00:00, 26.2MB/s]",
            "_view_count": null,
            "_view_module_version": "1.5.0",
            "description_tooltip": null,
            "_model_module": "@jupyter-widgets/controls",
            "layout": "IPY_MODEL_b69801a65b03469c9119b1fadee04fb3"
          }
        },
        "5159ed24c84044ef85b8221a03734027": {
          "model_module": "@jupyter-widgets/controls",
          "model_name": "ProgressStyleModel",
          "state": {
            "_view_name": "StyleView",
            "_model_name": "ProgressStyleModel",
            "description_width": "initial",
            "_view_module": "@jupyter-widgets/base",
            "_model_module_version": "1.5.0",
            "_view_count": null,
            "_view_module_version": "1.2.0",
            "bar_color": null,
            "_model_module": "@jupyter-widgets/controls"
          }
        },
        "3843ca1d088b409dbaddea95a0cb7d9c": {
          "model_module": "@jupyter-widgets/base",
          "model_name": "LayoutModel",
          "state": {
            "_view_name": "LayoutView",
            "grid_template_rows": null,
            "right": null,
            "justify_content": null,
            "_view_module": "@jupyter-widgets/base",
            "overflow": null,
            "_model_module_version": "1.2.0",
            "_view_count": null,
            "flex_flow": null,
            "width": null,
            "min_width": null,
            "border": null,
            "align_items": null,
            "bottom": null,
            "_model_module": "@jupyter-widgets/base",
            "top": null,
            "grid_column": null,
            "overflow_y": null,
            "overflow_x": null,
            "grid_auto_flow": null,
            "grid_area": null,
            "grid_template_columns": null,
            "flex": null,
            "_model_name": "LayoutModel",
            "justify_items": null,
            "grid_row": null,
            "max_height": null,
            "align_content": null,
            "visibility": null,
            "align_self": null,
            "height": null,
            "min_height": null,
            "padding": null,
            "grid_auto_rows": null,
            "grid_gap": null,
            "max_width": null,
            "order": null,
            "_view_module_version": "1.2.0",
            "grid_template_areas": null,
            "object_position": null,
            "object_fit": null,
            "grid_auto_columns": null,
            "margin": null,
            "display": null,
            "left": null
          }
        },
        "3532d384eb0e4823aa2e99934214091d": {
          "model_module": "@jupyter-widgets/controls",
          "model_name": "DescriptionStyleModel",
          "state": {
            "_view_name": "StyleView",
            "_model_name": "DescriptionStyleModel",
            "description_width": "",
            "_view_module": "@jupyter-widgets/base",
            "_model_module_version": "1.5.0",
            "_view_count": null,
            "_view_module_version": "1.2.0",
            "_model_module": "@jupyter-widgets/controls"
          }
        },
        "b69801a65b03469c9119b1fadee04fb3": {
          "model_module": "@jupyter-widgets/base",
          "model_name": "LayoutModel",
          "state": {
            "_view_name": "LayoutView",
            "grid_template_rows": null,
            "right": null,
            "justify_content": null,
            "_view_module": "@jupyter-widgets/base",
            "overflow": null,
            "_model_module_version": "1.2.0",
            "_view_count": null,
            "flex_flow": null,
            "width": null,
            "min_width": null,
            "border": null,
            "align_items": null,
            "bottom": null,
            "_model_module": "@jupyter-widgets/base",
            "top": null,
            "grid_column": null,
            "overflow_y": null,
            "overflow_x": null,
            "grid_auto_flow": null,
            "grid_area": null,
            "grid_template_columns": null,
            "flex": null,
            "_model_name": "LayoutModel",
            "justify_items": null,
            "grid_row": null,
            "max_height": null,
            "align_content": null,
            "visibility": null,
            "align_self": null,
            "height": null,
            "min_height": null,
            "padding": null,
            "grid_auto_rows": null,
            "grid_gap": null,
            "max_width": null,
            "order": null,
            "_view_module_version": "1.2.0",
            "grid_template_areas": null,
            "object_position": null,
            "object_fit": null,
            "grid_auto_columns": null,
            "margin": null,
            "display": null,
            "left": null
          }
        }
      }
    }
  },
  "cells": [
    {
      "cell_type": "code",
      "metadata": {
        "id": "8RKJeoa9XR6p",
        "outputId": "099fefec-7958-4b22-814b-8ab9000cad2f",
        "colab": {
          "base_uri": "https://localhost:8080/"
        }
      },
      "source": [
        "!pip install transformers\n",
        "import json \n",
        "import numpy as np\n",
        "import tensorflow as tf\n",
        "import re\n",
        "from tokenizers import BertWordPieceTokenizer\n",
        "from transformers import BertTokenizer, TFBertModel,BertConfig\n",
        "import os\n",
        "import string \n",
        "\n",
        "configuration = BertConfig()  # default parameters and configuration for BERT\n",
        "max_len = 384"
      ],
      "execution_count": 1,
      "outputs": [
        {
          "output_type": "stream",
          "text": [
            "Collecting transformers\n",
            "\u001b[?25l  Downloading https://files.pythonhosted.org/packages/2c/4e/4f1ede0fd7a36278844a277f8d53c21f88f37f3754abf76a5d6224f76d4a/transformers-3.4.0-py3-none-any.whl (1.3MB)\n",
            "\r\u001b[K     |▎                               | 10kB 17.4MB/s eta 0:00:01\r\u001b[K     |▌                               | 20kB 2.1MB/s eta 0:00:01\r\u001b[K     |▉                               | 30kB 2.6MB/s eta 0:00:01\r\u001b[K     |█                               | 40kB 3.0MB/s eta 0:00:01\r\u001b[K     |█▎                              | 51kB 2.4MB/s eta 0:00:01\r\u001b[K     |█▋                              | 61kB 2.7MB/s eta 0:00:01\r\u001b[K     |█▉                              | 71kB 3.0MB/s eta 0:00:01\r\u001b[K     |██                              | 81kB 3.3MB/s eta 0:00:01\r\u001b[K     |██▍                             | 92kB 3.4MB/s eta 0:00:01\r\u001b[K     |██▋                             | 102kB 3.3MB/s eta 0:00:01\r\u001b[K     |██▉                             | 112kB 3.3MB/s eta 0:00:01\r\u001b[K     |███▏                            | 122kB 3.3MB/s eta 0:00:01\r\u001b[K     |███▍                            | 133kB 3.3MB/s eta 0:00:01\r\u001b[K     |███▋                            | 143kB 3.3MB/s eta 0:00:01\r\u001b[K     |████                            | 153kB 3.3MB/s eta 0:00:01\r\u001b[K     |████▏                           | 163kB 3.3MB/s eta 0:00:01\r\u001b[K     |████▍                           | 174kB 3.3MB/s eta 0:00:01\r\u001b[K     |████▊                           | 184kB 3.3MB/s eta 0:00:01\r\u001b[K     |█████                           | 194kB 3.3MB/s eta 0:00:01\r\u001b[K     |█████▏                          | 204kB 3.3MB/s eta 0:00:01\r\u001b[K     |█████▌                          | 215kB 3.3MB/s eta 0:00:01\r\u001b[K     |█████▊                          | 225kB 3.3MB/s eta 0:00:01\r\u001b[K     |██████                          | 235kB 3.3MB/s eta 0:00:01\r\u001b[K     |██████▎                         | 245kB 3.3MB/s eta 0:00:01\r\u001b[K     |██████▌                         | 256kB 3.3MB/s eta 0:00:01\r\u001b[K     |██████▊                         | 266kB 3.3MB/s eta 0:00:01\r\u001b[K     |███████                         | 276kB 3.3MB/s eta 0:00:01\r\u001b[K     |███████▎                        | 286kB 3.3MB/s eta 0:00:01\r\u001b[K     |███████▋                        | 296kB 3.3MB/s eta 0:00:01\r\u001b[K     |███████▉                        | 307kB 3.3MB/s eta 0:00:01\r\u001b[K     |████████                        | 317kB 3.3MB/s eta 0:00:01\r\u001b[K     |████████▍                       | 327kB 3.3MB/s eta 0:00:01\r\u001b[K     |████████▋                       | 337kB 3.3MB/s eta 0:00:01\r\u001b[K     |████████▉                       | 348kB 3.3MB/s eta 0:00:01\r\u001b[K     |█████████▏                      | 358kB 3.3MB/s eta 0:00:01\r\u001b[K     |█████████▍                      | 368kB 3.3MB/s eta 0:00:01\r\u001b[K     |█████████▋                      | 378kB 3.3MB/s eta 0:00:01\r\u001b[K     |██████████                      | 389kB 3.3MB/s eta 0:00:01\r\u001b[K     |██████████▏                     | 399kB 3.3MB/s eta 0:00:01\r\u001b[K     |██████████▍                     | 409kB 3.3MB/s eta 0:00:01\r\u001b[K     |██████████▊                     | 419kB 3.3MB/s eta 0:00:01\r\u001b[K     |███████████                     | 430kB 3.3MB/s eta 0:00:01\r\u001b[K     |███████████▏                    | 440kB 3.3MB/s eta 0:00:01\r\u001b[K     |███████████▌                    | 450kB 3.3MB/s eta 0:00:01\r\u001b[K     |███████████▊                    | 460kB 3.3MB/s eta 0:00:01\r\u001b[K     |████████████                    | 471kB 3.3MB/s eta 0:00:01\r\u001b[K     |████████████▎                   | 481kB 3.3MB/s eta 0:00:01\r\u001b[K     |████████████▌                   | 491kB 3.3MB/s eta 0:00:01\r\u001b[K     |████████████▊                   | 501kB 3.3MB/s eta 0:00:01\r\u001b[K     |█████████████                   | 512kB 3.3MB/s eta 0:00:01\r\u001b[K     |█████████████▎                  | 522kB 3.3MB/s eta 0:00:01\r\u001b[K     |█████████████▌                  | 532kB 3.3MB/s eta 0:00:01\r\u001b[K     |█████████████▉                  | 542kB 3.3MB/s eta 0:00:01\r\u001b[K     |██████████████                  | 552kB 3.3MB/s eta 0:00:01\r\u001b[K     |██████████████▍                 | 563kB 3.3MB/s eta 0:00:01\r\u001b[K     |██████████████▋                 | 573kB 3.3MB/s eta 0:00:01\r\u001b[K     |██████████████▉                 | 583kB 3.3MB/s eta 0:00:01\r\u001b[K     |███████████████▏                | 593kB 3.3MB/s eta 0:00:01\r\u001b[K     |███████████████▍                | 604kB 3.3MB/s eta 0:00:01\r\u001b[K     |███████████████▋                | 614kB 3.3MB/s eta 0:00:01\r\u001b[K     |████████████████                | 624kB 3.3MB/s eta 0:00:01\r\u001b[K     |████████████████▏               | 634kB 3.3MB/s eta 0:00:01\r\u001b[K     |████████████████▍               | 645kB 3.3MB/s eta 0:00:01\r\u001b[K     |████████████████▊               | 655kB 3.3MB/s eta 0:00:01\r\u001b[K     |█████████████████               | 665kB 3.3MB/s eta 0:00:01\r\u001b[K     |█████████████████▏              | 675kB 3.3MB/s eta 0:00:01\r\u001b[K     |█████████████████▌              | 686kB 3.3MB/s eta 0:00:01\r\u001b[K     |█████████████████▊              | 696kB 3.3MB/s eta 0:00:01\r\u001b[K     |██████████████████              | 706kB 3.3MB/s eta 0:00:01\r\u001b[K     |██████████████████▎             | 716kB 3.3MB/s eta 0:00:01\r\u001b[K     |██████████████████▌             | 727kB 3.3MB/s eta 0:00:01\r\u001b[K     |██████████████████▊             | 737kB 3.3MB/s eta 0:00:01\r\u001b[K     |███████████████████             | 747kB 3.3MB/s eta 0:00:01\r\u001b[K     |███████████████████▎            | 757kB 3.3MB/s eta 0:00:01\r\u001b[K     |███████████████████▌            | 768kB 3.3MB/s eta 0:00:01\r\u001b[K     |███████████████████▉            | 778kB 3.3MB/s eta 0:00:01\r\u001b[K     |████████████████████            | 788kB 3.3MB/s eta 0:00:01\r\u001b[K     |████████████████████▎           | 798kB 3.3MB/s eta 0:00:01\r\u001b[K     |████████████████████▋           | 808kB 3.3MB/s eta 0:00:01\r\u001b[K     |████████████████████▉           | 819kB 3.3MB/s eta 0:00:01\r\u001b[K     |█████████████████████           | 829kB 3.3MB/s eta 0:00:01\r\u001b[K     |█████████████████████▍          | 839kB 3.3MB/s eta 0:00:01\r\u001b[K     |█████████████████████▋          | 849kB 3.3MB/s eta 0:00:01\r\u001b[K     |██████████████████████          | 860kB 3.3MB/s eta 0:00:01\r\u001b[K     |██████████████████████▏         | 870kB 3.3MB/s eta 0:00:01\r\u001b[K     |██████████████████████▍         | 880kB 3.3MB/s eta 0:00:01\r\u001b[K     |██████████████████████▊         | 890kB 3.3MB/s eta 0:00:01\r\u001b[K     |███████████████████████         | 901kB 3.3MB/s eta 0:00:01\r\u001b[K     |███████████████████████▏        | 911kB 3.3MB/s eta 0:00:01\r\u001b[K     |███████████████████████▌        | 921kB 3.3MB/s eta 0:00:01\r\u001b[K     |███████████████████████▊        | 931kB 3.3MB/s eta 0:00:01\r\u001b[K     |████████████████████████        | 942kB 3.3MB/s eta 0:00:01\r\u001b[K     |████████████████████████▎       | 952kB 3.3MB/s eta 0:00:01\r\u001b[K     |████████████████████████▌       | 962kB 3.3MB/s eta 0:00:01\r\u001b[K     |████████████████████████▊       | 972kB 3.3MB/s eta 0:00:01\r\u001b[K     |█████████████████████████       | 983kB 3.3MB/s eta 0:00:01\r\u001b[K     |█████████████████████████▎      | 993kB 3.3MB/s eta 0:00:01\r\u001b[K     |█████████████████████████▌      | 1.0MB 3.3MB/s eta 0:00:01\r\u001b[K     |█████████████████████████▉      | 1.0MB 3.3MB/s eta 0:00:01\r\u001b[K     |██████████████████████████      | 1.0MB 3.3MB/s eta 0:00:01\r\u001b[K     |██████████████████████████▎     | 1.0MB 3.3MB/s eta 0:00:01\r\u001b[K     |██████████████████████████▋     | 1.0MB 3.3MB/s eta 0:00:01\r\u001b[K     |██████████████████████████▉     | 1.1MB 3.3MB/s eta 0:00:01\r\u001b[K     |███████████████████████████     | 1.1MB 3.3MB/s eta 0:00:01\r\u001b[K     |███████████████████████████▍    | 1.1MB 3.3MB/s eta 0:00:01\r\u001b[K     |███████████████████████████▋    | 1.1MB 3.3MB/s eta 0:00:01\r\u001b[K     |███████████████████████████▉    | 1.1MB 3.3MB/s eta 0:00:01\r\u001b[K     |████████████████████████████▏   | 1.1MB 3.3MB/s eta 0:00:01\r\u001b[K     |████████████████████████████▍   | 1.1MB 3.3MB/s eta 0:00:01\r\u001b[K     |████████████████████████████▊   | 1.1MB 3.3MB/s eta 0:00:01\r\u001b[K     |█████████████████████████████   | 1.1MB 3.3MB/s eta 0:00:01\r\u001b[K     |█████████████████████████████▏  | 1.1MB 3.3MB/s eta 0:00:01\r\u001b[K     |█████████████████████████████▌  | 1.2MB 3.3MB/s eta 0:00:01\r\u001b[K     |█████████████████████████████▊  | 1.2MB 3.3MB/s eta 0:00:01\r\u001b[K     |██████████████████████████████  | 1.2MB 3.3MB/s eta 0:00:01\r\u001b[K     |██████████████████████████████▎ | 1.2MB 3.3MB/s eta 0:00:01\r\u001b[K     |██████████████████████████████▌ | 1.2MB 3.3MB/s eta 0:00:01\r\u001b[K     |██████████████████████████████▊ | 1.2MB 3.3MB/s eta 0:00:01\r\u001b[K     |███████████████████████████████ | 1.2MB 3.3MB/s eta 0:00:01\r\u001b[K     |███████████████████████████████▎| 1.2MB 3.3MB/s eta 0:00:01\r\u001b[K     |███████████████████████████████▌| 1.2MB 3.3MB/s eta 0:00:01\r\u001b[K     |███████████████████████████████▉| 1.2MB 3.3MB/s eta 0:00:01\r\u001b[K     |████████████████████████████████| 1.3MB 3.3MB/s \n",
            "\u001b[?25hRequirement already satisfied: packaging in /usr/local/lib/python3.6/dist-packages (from transformers) (20.4)\n",
            "Requirement already satisfied: filelock in /usr/local/lib/python3.6/dist-packages (from transformers) (3.0.12)\n",
            "Requirement already satisfied: requests in /usr/local/lib/python3.6/dist-packages (from transformers) (2.23.0)\n",
            "Requirement already satisfied: tqdm>=4.27 in /usr/local/lib/python3.6/dist-packages (from transformers) (4.41.1)\n",
            "Requirement already satisfied: regex!=2019.12.17 in /usr/local/lib/python3.6/dist-packages (from transformers) (2019.12.20)\n",
            "Collecting sentencepiece!=0.1.92\n",
            "\u001b[?25l  Downloading https://files.pythonhosted.org/packages/e5/2d/6d4ca4bef9a67070fa1cac508606328329152b1df10bdf31fb6e4e727894/sentencepiece-0.1.94-cp36-cp36m-manylinux2014_x86_64.whl (1.1MB)\n",
            "\u001b[K     |████████████████████████████████| 1.1MB 19.4MB/s \n",
            "\u001b[?25hRequirement already satisfied: protobuf in /usr/local/lib/python3.6/dist-packages (from transformers) (3.12.4)\n",
            "Collecting sacremoses\n",
            "\u001b[?25l  Downloading https://files.pythonhosted.org/packages/7d/34/09d19aff26edcc8eb2a01bed8e98f13a1537005d31e95233fd48216eed10/sacremoses-0.0.43.tar.gz (883kB)\n",
            "\u001b[K     |████████████████████████████████| 890kB 32.6MB/s \n",
            "\u001b[?25hRequirement already satisfied: dataclasses; python_version < \"3.7\" in /usr/local/lib/python3.6/dist-packages (from transformers) (0.7)\n",
            "Collecting tokenizers==0.9.2\n",
            "\u001b[?25l  Downloading https://files.pythonhosted.org/packages/7c/a5/78be1a55b2ac8d6a956f0a211d372726e2b1dd2666bb537fea9b03abd62c/tokenizers-0.9.2-cp36-cp36m-manylinux1_x86_64.whl (2.9MB)\n",
            "\u001b[K     |████████████████████████████████| 2.9MB 35.8MB/s \n",
            "\u001b[?25hRequirement already satisfied: numpy in /usr/local/lib/python3.6/dist-packages (from transformers) (1.18.5)\n",
            "Requirement already satisfied: pyparsing>=2.0.2 in /usr/local/lib/python3.6/dist-packages (from packaging->transformers) (2.4.7)\n",
            "Requirement already satisfied: six in /usr/local/lib/python3.6/dist-packages (from packaging->transformers) (1.15.0)\n",
            "Requirement already satisfied: chardet<4,>=3.0.2 in /usr/local/lib/python3.6/dist-packages (from requests->transformers) (3.0.4)\n",
            "Requirement already satisfied: urllib3!=1.25.0,!=1.25.1,<1.26,>=1.21.1 in /usr/local/lib/python3.6/dist-packages (from requests->transformers) (1.24.3)\n",
            "Requirement already satisfied: certifi>=2017.4.17 in /usr/local/lib/python3.6/dist-packages (from requests->transformers) (2020.6.20)\n",
            "Requirement already satisfied: idna<3,>=2.5 in /usr/local/lib/python3.6/dist-packages (from requests->transformers) (2.10)\n",
            "Requirement already satisfied: setuptools in /usr/local/lib/python3.6/dist-packages (from protobuf->transformers) (50.3.0)\n",
            "Requirement already satisfied: click in /usr/local/lib/python3.6/dist-packages (from sacremoses->transformers) (7.1.2)\n",
            "Requirement already satisfied: joblib in /usr/local/lib/python3.6/dist-packages (from sacremoses->transformers) (0.17.0)\n",
            "Building wheels for collected packages: sacremoses\n",
            "  Building wheel for sacremoses (setup.py) ... \u001b[?25l\u001b[?25hdone\n",
            "  Created wheel for sacremoses: filename=sacremoses-0.0.43-cp36-none-any.whl size=893257 sha256=d2f2fe005939cf0a609d81f60464e2ca320da655bbd4c75923a498de8830649b\n",
            "  Stored in directory: /root/.cache/pip/wheels/29/3c/fd/7ce5c3f0666dab31a50123635e6fb5e19ceb42ce38d4e58f45\n",
            "Successfully built sacremoses\n",
            "Installing collected packages: sentencepiece, sacremoses, tokenizers, transformers\n",
            "Successfully installed sacremoses-0.0.43 sentencepiece-0.1.94 tokenizers-0.9.2 transformers-3.4.0\n"
          ],
          "name": "stdout"
        }
      ]
    },
    {
      "cell_type": "markdown",
      "metadata": {
        "id": "ZuUzslGpuf5P"
      },
      "source": [
        "## Bert Tokenizer and model for fine-tuning"
      ]
    },
    {
      "cell_type": "code",
      "metadata": {
        "id": "OeMZCLK3uRHF",
        "outputId": "64cda7cd-473b-49c8-dfc7-e29c4b0a29ce",
        "colab": {
          "base_uri": "https://localhost:8080/",
          "height": 67,
          "referenced_widgets": [
            "68c8902ba6c944baa02baf95381c2603",
            "8f38a92947dc43058fd25e72feefa99d",
            "f27a849470384332b33bf8656d4fa70f",
            "84455837a3d145d69fd55b6dd6f7f421",
            "05ed4eebb4864d0c80f7dc951551babb",
            "cb6893386202414c82eaeaf2826714fa",
            "df0fcfb102434888baf1f501e3ef54d4",
            "d1db30ebde1c473ba488e925a6ed188b"
          ]
        }
      },
      "source": [
        "slow_tokenizer = BertTokenizer.from_pretrained(\"bert-base-uncased\")\n",
        "save_path = \"bert_base_uncased/\"\n",
        "if not os.path.exists(save_path):\n",
        "    os.makedirs(save_path)\n",
        "slow_tokenizer.save_pretrained(save_path)\n",
        "\n",
        "# Load the fast tokenizer from saved file\n",
        "tokenizer = BertWordPieceTokenizer(\"bert_base_uncased/vocab.txt\", lowercase=True)\n"
      ],
      "execution_count": 2,
      "outputs": [
        {
          "output_type": "display_data",
          "data": {
            "application/vnd.jupyter.widget-view+json": {
              "model_id": "68c8902ba6c944baa02baf95381c2603",
              "version_minor": 0,
              "version_major": 2
            },
            "text/plain": [
              "HBox(children=(FloatProgress(value=0.0, description='Downloading', max=231508.0, style=ProgressStyle(descripti…"
            ]
          },
          "metadata": {
            "tags": []
          }
        },
        {
          "output_type": "stream",
          "text": [
            "\n"
          ],
          "name": "stdout"
        }
      ]
    },
    {
      "cell_type": "markdown",
      "metadata": {
        "id": "BlGyWzqJumxj"
      },
      "source": [
        "## Preprocessing of data\n",
        "- Create each example as SQuAD class object"
      ]
    },
    {
      "cell_type": "code",
      "metadata": {
        "id": "cEbzP6nIX8TM"
      },
      "source": [
        "class SQuADEntry:\n",
        "    def __init__(self, context, question, basic_answer, more_answers, start_idx):\n",
        "        self.context = context\n",
        "        self.question = question\n",
        "        self.basic_answer = basic_answer\n",
        "        self.more_answers = more_answers\n",
        "        self.start_idx = start_idx\n",
        "        self.end_idx = None\n",
        "        self.start_idx_token = start_idx\n",
        "        self.end_idx_token = None\n",
        "        self.offsets = None\n",
        "        self.input_ids = None \n",
        "        self.attention_mask = None\n",
        "        self.token_type_ids = None\n",
        "        self.validExample= True\n",
        "    def __call__(self):\n",
        "\n",
        "         # Clean context, answer and question\n",
        "        self.context = \" \".join(str(self.context).split())\n",
        "        self.question = \" \".join(str(self.question).split())\n",
        "        self.basic_answer = \" \".join(str(self.basic_answer).split())\n",
        "\n",
        "\n",
        "        #Calculate end_idx\n",
        "        self.end_idx = self.start_idx + len(self.basic_answer)\n",
        "        if (self.end_idx >=len(self.context)):\n",
        "            self.validExample= False\n",
        "            return\n",
        "\n",
        "        #find characters of context that are part of answer\n",
        "        is_part_of_answer = [0]*len(self.context)\n",
        "        for i in range (self.start_idx, self.end_idx):\n",
        "            is_part_of_answer[i] = 1\n",
        "\n",
        "        contextTokenizer =  tokenizer.encode(self.context)  \n",
        "        #find index of token that corresponds to start and the end of the answer\n",
        "        answer_id_token=[]\n",
        "        for idx, (start,end) in enumerate(contextTokenizer.offsets):\n",
        "            if (sum(is_part_of_answer[start:end]) >0 ):\n",
        "                answer_id_token.append(idx)\n",
        "        #data to predict\n",
        "        if len(answer_id_token) == 0 :\n",
        "            self.validExample=False\n",
        "            return         \n",
        "        self.start_idx_token = answer_id_token[0]\n",
        "        self.end_idx_token = answer_id_token[-1]\n",
        "        self.offsets = contextTokenizer.offsets\n",
        "        \n",
        "        # work on question\n",
        "        questionTokinizer  = tokenizer.encode(self.question)\n",
        "\n",
        "        #Create model's inputs \n",
        "        self.input_ids = contextTokenizer.ids + questionTokinizer.ids[1:]\n",
        "        # Dropout long examples\n",
        "        if (max_len - len(self.input_ids) < 0 ):\n",
        "            self.validExample= False\n",
        "            return\n",
        "        self.attention_mask = [1] * len (self.input_ids)\n",
        "        self.token_type_ids = [0] * len(contextTokenizer.ids) + \\\n",
        "                                [1]*len(questionTokinizer.ids[1:])\n",
        "\n",
        "                                \n",
        "\n",
        "\n"
      ],
      "execution_count": 3,
      "outputs": []
    },
    {
      "cell_type": "markdown",
      "metadata": {
        "id": "wmqaqSolLgG6"
      },
      "source": [
        "## Load data from JSON"
      ]
    },
    {
      "cell_type": "code",
      "metadata": {
        "id": "HVcuVOupYeHu",
        "outputId": "1daebf00-6fb6-4ced-9d58-253685fe007c",
        "colab": {
          "base_uri": "https://localhost:8080/"
        }
      },
      "source": [
        "def create_squad_examples(raw_data):\n",
        "    squad_examples = []\n",
        "    for item in raw_data[\"data\"]:\n",
        "        for para in item[\"paragraphs\"]:\n",
        "            context = para[\"context\"]\n",
        "            for qa in para[\"qas\"]:\n",
        "                question = qa[\"question\"]\n",
        "                answer_text = qa[\"answers\"][0][\"text\"]\n",
        "                all_answers = [_[\"text\"] for _ in qa[\"answers\"]]\n",
        "                start_char_idx = qa[\"answers\"][0][\"answer_start\"]\n",
        "\n",
        "                #context, question, basic_answer, more_answers, start_idx\n",
        "                squad_eg = SQuADEntry(\n",
        "                 context,question, answer_text, all_answers, start_char_idx,\n",
        "                )\n",
        "                squad_eg()\n",
        "                squad_examples.append(squad_eg)\n",
        "    return squad_examples\n",
        "\n",
        "# Data url \n",
        "train_data_url = \"https://rajpurkar.github.io/SQuAD-explorer/dataset/train-v1.1.json\"\n",
        "train_path = tf.keras.utils.get_file(\"train.json\", train_data_url)\n",
        "eval_data_url = \"https://rajpurkar.github.io/SQuAD-explorer/dataset/dev-v1.1.json\"\n",
        "eval_path = tf.keras.utils.get_file(\"eval.json\", eval_data_url)  \n",
        "#open JSON's\n",
        "with open(train_path) as f:\n",
        "    raw_train_data = json.load(f)\n",
        "\n",
        "with open(eval_path) as f:\n",
        "    raw_eval_data = json.load(f)\n"
      ],
      "execution_count": 4,
      "outputs": [
        {
          "output_type": "stream",
          "text": [
            "Downloading data from https://rajpurkar.github.io/SQuAD-explorer/dataset/train-v1.1.json\n",
            "30294016/30288272 [==============================] - 1s 0us/step\n",
            "Downloading data from https://rajpurkar.github.io/SQuAD-explorer/dataset/dev-v1.1.json\n",
            "4857856/4854279 [==============================] - 0s 0us/step\n"
          ],
          "name": "stdout"
        }
      ]
    },
    {
      "cell_type": "markdown",
      "metadata": {
        "id": "4QxRutAYga5o"
      },
      "source": [
        "## Creating training examples"
      ]
    },
    {
      "cell_type": "code",
      "metadata": {
        "id": "HPl7Y373OSZW"
      },
      "source": [
        "def createTrainingExamples(sqaud_examples):\n",
        "    dict_training={\n",
        "        \"input_ids\" : [],\n",
        "        \"attention_mask\" : [],\n",
        "        \"token_type_ids\" : [],\n",
        "        \"start_idx_token\" : [],\n",
        "        \"end_idx_token\" : []\n",
        "    }\n",
        "    count = 0\n",
        "    for x in sqaud_examples:\n",
        "        if (x.validExample):\n",
        "            dict_training[\"input_ids\"].append(x.input_ids)\n",
        "            dict_training[\"attention_mask\"].append(x.attention_mask)\n",
        "            dict_training[\"token_type_ids\"].append(x.token_type_ids)\n",
        "            dict_training['start_idx_token'].append(x.start_idx_token)\n",
        "            dict_training['end_idx_token'].append(x.end_idx_token)\n",
        "        else:\n",
        "            count+=1\n",
        "    print(count)            \n",
        "    #convert to numpy arrays \n",
        "    for key in dict_training:\n",
        "        dict_training[key]= np.array(dict_training[key])\n",
        "        print(dict_training[key])\n",
        "    #padding\n",
        "    dict_training[\"input_ids\"] = tf.keras.preprocessing.sequence.pad_sequences( dict_training[\"input_ids\"],padding='post',maxlen=max_len)\n",
        "    dict_training[\"attention_mask\"]=tf.keras.preprocessing.sequence.pad_sequences(dict_training[\"attention_mask\"],padding='post',maxlen=max_len)\n",
        "    dict_training[\"token_type_ids\"]=tf.keras.preprocessing.sequence.pad_sequences(dict_training[\"token_type_ids\"],padding='post',maxlen=max_len)\n",
        "            \n",
        "    X= [dict_training[\"input_ids\"], dict_training[\"attention_mask\"], dict_training[\"token_type_ids\"]]\n",
        "    Y= [dict_training[\"start_idx_token\"], dict_training[\"end_idx_token\"]]\n",
        "    return X,Y    \n",
        "\n",
        "\n"
      ],
      "execution_count": 5,
      "outputs": []
    },
    {
      "cell_type": "code",
      "metadata": {
        "id": "ebd7pIZgPkaf",
        "outputId": "98be1b1e-e632-4d7e-9527-7d919da39848",
        "colab": {
          "base_uri": "https://localhost:8080/"
        }
      },
      "source": [
        "sQUADTrain  = create_squad_examples(raw_train_data)\n",
        "XTrain, YTrain = createTrainingExamples(sQUADTrain)\n",
        "sQUADEval  = create_squad_examples(raw_eval_data)\n",
        "XEval, YEval = createTrainingExamples(sQUADEval)"
      ],
      "execution_count": 6,
      "outputs": [
        {
          "output_type": "stream",
          "text": [
            "1463\n",
            "[list([101, 6549, 2135, 1010, 1996, 2082, 2038, 1037, 3234, 2839, 1012, 10234, 1996, 2364, 2311, 1005, 1055, 2751, 8514, 2003, 1037, 3585, 6231, 1997, 1996, 6261, 2984, 1012, 3202, 1999, 2392, 1997, 1996, 2364, 2311, 1998, 5307, 2009, 1010, 2003, 1037, 6967, 6231, 1997, 4828, 2007, 2608, 2039, 14995, 6924, 2007, 1996, 5722, 1000, 2310, 3490, 2618, 4748, 2033, 18168, 5267, 1000, 1012, 2279, 2000, 1996, 2364, 2311, 2003, 1996, 13546, 1997, 1996, 6730, 2540, 1012, 3202, 2369, 1996, 13546, 2003, 1996, 24665, 23052, 1010, 1037, 14042, 2173, 1997, 7083, 1998, 9185, 1012, 2009, 2003, 1037, 15059, 1997, 1996, 24665, 23052, 2012, 10223, 26371, 1010, 2605, 2073, 1996, 6261, 2984, 22353, 2135, 2596, 2000, 3002, 16595, 9648, 4674, 2061, 12083, 9711, 2271, 1999, 8517, 1012, 2012, 1996, 2203, 1997, 1996, 2364, 3298, 1006, 1998, 1999, 1037, 3622, 2240, 2008, 8539, 2083, 1017, 11342, 1998, 1996, 2751, 8514, 1007, 1010, 2003, 1037, 3722, 1010, 2715, 2962, 6231, 1997, 2984, 1012, 102, 2000, 3183, 2106, 1996, 6261, 2984, 9382, 3711, 1999, 8517, 1999, 10223, 26371, 2605, 1029, 102])\n",
            " list([101, 6549, 2135, 1010, 1996, 2082, 2038, 1037, 3234, 2839, 1012, 10234, 1996, 2364, 2311, 1005, 1055, 2751, 8514, 2003, 1037, 3585, 6231, 1997, 1996, 6261, 2984, 1012, 3202, 1999, 2392, 1997, 1996, 2364, 2311, 1998, 5307, 2009, 1010, 2003, 1037, 6967, 6231, 1997, 4828, 2007, 2608, 2039, 14995, 6924, 2007, 1996, 5722, 1000, 2310, 3490, 2618, 4748, 2033, 18168, 5267, 1000, 1012, 2279, 2000, 1996, 2364, 2311, 2003, 1996, 13546, 1997, 1996, 6730, 2540, 1012, 3202, 2369, 1996, 13546, 2003, 1996, 24665, 23052, 1010, 1037, 14042, 2173, 1997, 7083, 1998, 9185, 1012, 2009, 2003, 1037, 15059, 1997, 1996, 24665, 23052, 2012, 10223, 26371, 1010, 2605, 2073, 1996, 6261, 2984, 22353, 2135, 2596, 2000, 3002, 16595, 9648, 4674, 2061, 12083, 9711, 2271, 1999, 8517, 1012, 2012, 1996, 2203, 1997, 1996, 2364, 3298, 1006, 1998, 1999, 1037, 3622, 2240, 2008, 8539, 2083, 1017, 11342, 1998, 1996, 2751, 8514, 1007, 1010, 2003, 1037, 3722, 1010, 2715, 2962, 6231, 1997, 2984, 1012, 102, 2054, 2003, 1999, 2392, 1997, 1996, 10289, 8214, 2364, 2311, 1029, 102])\n",
            " list([101, 6549, 2135, 1010, 1996, 2082, 2038, 1037, 3234, 2839, 1012, 10234, 1996, 2364, 2311, 1005, 1055, 2751, 8514, 2003, 1037, 3585, 6231, 1997, 1996, 6261, 2984, 1012, 3202, 1999, 2392, 1997, 1996, 2364, 2311, 1998, 5307, 2009, 1010, 2003, 1037, 6967, 6231, 1997, 4828, 2007, 2608, 2039, 14995, 6924, 2007, 1996, 5722, 1000, 2310, 3490, 2618, 4748, 2033, 18168, 5267, 1000, 1012, 2279, 2000, 1996, 2364, 2311, 2003, 1996, 13546, 1997, 1996, 6730, 2540, 1012, 3202, 2369, 1996, 13546, 2003, 1996, 24665, 23052, 1010, 1037, 14042, 2173, 1997, 7083, 1998, 9185, 1012, 2009, 2003, 1037, 15059, 1997, 1996, 24665, 23052, 2012, 10223, 26371, 1010, 2605, 2073, 1996, 6261, 2984, 22353, 2135, 2596, 2000, 3002, 16595, 9648, 4674, 2061, 12083, 9711, 2271, 1999, 8517, 1012, 2012, 1996, 2203, 1997, 1996, 2364, 3298, 1006, 1998, 1999, 1037, 3622, 2240, 2008, 8539, 2083, 1017, 11342, 1998, 1996, 2751, 8514, 1007, 1010, 2003, 1037, 3722, 1010, 2715, 2962, 6231, 1997, 2984, 1012, 102, 1996, 13546, 1997, 1996, 6730, 2540, 2012, 10289, 8214, 2003, 3875, 2000, 2029, 3252, 1029, 102])\n",
            " ...\n",
            " list([101, 28045, 4956, 2103, 1006, 2463, 2278, 1007, 1010, 1999, 2344, 2000, 5326, 2248, 4262, 2038, 2511, 2019, 2248, 4262, 15128, 1006, 20868, 2278, 1007, 1012, 2463, 2278, 1005, 1055, 2034, 2248, 3276, 2001, 2511, 1999, 3339, 2007, 1996, 2103, 1997, 8207, 1010, 5392, 1010, 2142, 2163, 1012, 2023, 4023, 2038, 2042, 2582, 9412, 2011, 7411, 5337, 6550, 2007, 1022, 2060, 3655, 1024, 9587, 10422, 15319, 2103, 1997, 2900, 1010, 10541, 1997, 1996, 3915, 1010, 8675, 2239, 1006, 3839, 8369, 7828, 1007, 1997, 12620, 1010, 8418, 1005, 2019, 1997, 1996, 2111, 1005, 1055, 3072, 1997, 2859, 1010, 20790, 1997, 12545, 1010, 1998, 1052, 14001, 6292, 5654, 1997, 1996, 3537, 3072, 1997, 4420, 1012, 2463, 2278, 1005, 1055, 5377, 23855, 2003, 2000, 11598, 2049, 8290, 2007, 7842, 2906, 2278, 3032, 1010, 2060, 2248, 6736, 1998, 2116, 2060, 2350, 3655, 1997, 1996, 2088, 2000, 6162, 2488, 3923, 2968, 1998, 13908, 3454, 2005, 28045, 1012, 102, 2007, 2054, 19337, 21694, 17043, 2103, 2515, 28045, 2031, 1037, 3276, 1029, 102])\n",
            " list([101, 28045, 4956, 2103, 1006, 2463, 2278, 1007, 1010, 1999, 2344, 2000, 5326, 2248, 4262, 2038, 2511, 2019, 2248, 4262, 15128, 1006, 20868, 2278, 1007, 1012, 2463, 2278, 1005, 1055, 2034, 2248, 3276, 2001, 2511, 1999, 3339, 2007, 1996, 2103, 1997, 8207, 1010, 5392, 1010, 2142, 2163, 1012, 2023, 4023, 2038, 2042, 2582, 9412, 2011, 7411, 5337, 6550, 2007, 1022, 2060, 3655, 1024, 9587, 10422, 15319, 2103, 1997, 2900, 1010, 10541, 1997, 1996, 3915, 1010, 8675, 2239, 1006, 3839, 8369, 7828, 1007, 1997, 12620, 1010, 8418, 1005, 2019, 1997, 1996, 2111, 1005, 1055, 3072, 1997, 2859, 1010, 20790, 1997, 12545, 1010, 1998, 1052, 14001, 6292, 5654, 1997, 1996, 3537, 3072, 1997, 4420, 1012, 2463, 2278, 1005, 1055, 5377, 23855, 2003, 2000, 11598, 2049, 8290, 2007, 7842, 2906, 2278, 3032, 1010, 2060, 2248, 6736, 1998, 2116, 2060, 2350, 3655, 1997, 1996, 2088, 2000, 6162, 2488, 3923, 2968, 1998, 13908, 3454, 2005, 28045, 1012, 102, 1999, 2054, 2095, 2106, 28045, 3443, 2049, 3988, 2248, 3276, 1029, 102])\n",
            " list([101, 28045, 4956, 2103, 1006, 2463, 2278, 1007, 1010, 1999, 2344, 2000, 5326, 2248, 4262, 2038, 2511, 2019, 2248, 4262, 15128, 1006, 20868, 2278, 1007, 1012, 2463, 2278, 1005, 1055, 2034, 2248, 3276, 2001, 2511, 1999, 3339, 2007, 1996, 2103, 1997, 8207, 1010, 5392, 1010, 2142, 2163, 1012, 2023, 4023, 2038, 2042, 2582, 9412, 2011, 7411, 5337, 6550, 2007, 1022, 2060, 3655, 1024, 9587, 10422, 15319, 2103, 1997, 2900, 1010, 10541, 1997, 1996, 3915, 1010, 8675, 2239, 1006, 3839, 8369, 7828, 1007, 1997, 12620, 1010, 8418, 1005, 2019, 1997, 1996, 2111, 1005, 1055, 3072, 1997, 2859, 1010, 20790, 1997, 12545, 1010, 1998, 1052, 14001, 6292, 5654, 1997, 1996, 3537, 3072, 1997, 4420, 1012, 2463, 2278, 1005, 1055, 5377, 23855, 2003, 2000, 11598, 2049, 8290, 2007, 7842, 2906, 2278, 3032, 1010, 2060, 2248, 6736, 1998, 2116, 2060, 2350, 3655, 1997, 1996, 2088, 2000, 6162, 2488, 3923, 2968, 1998, 13908, 3454, 2005, 28045, 1012, 102, 2054, 2003, 2463, 2278, 2019, 3988, 2964, 1997, 1029, 102])]\n",
            "[list([1, 1, 1, 1, 1, 1, 1, 1, 1, 1, 1, 1, 1, 1, 1, 1, 1, 1, 1, 1, 1, 1, 1, 1, 1, 1, 1, 1, 1, 1, 1, 1, 1, 1, 1, 1, 1, 1, 1, 1, 1, 1, 1, 1, 1, 1, 1, 1, 1, 1, 1, 1, 1, 1, 1, 1, 1, 1, 1, 1, 1, 1, 1, 1, 1, 1, 1, 1, 1, 1, 1, 1, 1, 1, 1, 1, 1, 1, 1, 1, 1, 1, 1, 1, 1, 1, 1, 1, 1, 1, 1, 1, 1, 1, 1, 1, 1, 1, 1, 1, 1, 1, 1, 1, 1, 1, 1, 1, 1, 1, 1, 1, 1, 1, 1, 1, 1, 1, 1, 1, 1, 1, 1, 1, 1, 1, 1, 1, 1, 1, 1, 1, 1, 1, 1, 1, 1, 1, 1, 1, 1, 1, 1, 1, 1, 1, 1, 1, 1, 1, 1, 1, 1, 1, 1, 1, 1, 1, 1, 1, 1, 1, 1, 1, 1, 1, 1, 1, 1, 1, 1, 1, 1, 1, 1, 1])\n",
            " list([1, 1, 1, 1, 1, 1, 1, 1, 1, 1, 1, 1, 1, 1, 1, 1, 1, 1, 1, 1, 1, 1, 1, 1, 1, 1, 1, 1, 1, 1, 1, 1, 1, 1, 1, 1, 1, 1, 1, 1, 1, 1, 1, 1, 1, 1, 1, 1, 1, 1, 1, 1, 1, 1, 1, 1, 1, 1, 1, 1, 1, 1, 1, 1, 1, 1, 1, 1, 1, 1, 1, 1, 1, 1, 1, 1, 1, 1, 1, 1, 1, 1, 1, 1, 1, 1, 1, 1, 1, 1, 1, 1, 1, 1, 1, 1, 1, 1, 1, 1, 1, 1, 1, 1, 1, 1, 1, 1, 1, 1, 1, 1, 1, 1, 1, 1, 1, 1, 1, 1, 1, 1, 1, 1, 1, 1, 1, 1, 1, 1, 1, 1, 1, 1, 1, 1, 1, 1, 1, 1, 1, 1, 1, 1, 1, 1, 1, 1, 1, 1, 1, 1, 1, 1, 1, 1, 1, 1, 1, 1, 1, 1, 1, 1, 1, 1, 1, 1, 1, 1, 1, 1])\n",
            " list([1, 1, 1, 1, 1, 1, 1, 1, 1, 1, 1, 1, 1, 1, 1, 1, 1, 1, 1, 1, 1, 1, 1, 1, 1, 1, 1, 1, 1, 1, 1, 1, 1, 1, 1, 1, 1, 1, 1, 1, 1, 1, 1, 1, 1, 1, 1, 1, 1, 1, 1, 1, 1, 1, 1, 1, 1, 1, 1, 1, 1, 1, 1, 1, 1, 1, 1, 1, 1, 1, 1, 1, 1, 1, 1, 1, 1, 1, 1, 1, 1, 1, 1, 1, 1, 1, 1, 1, 1, 1, 1, 1, 1, 1, 1, 1, 1, 1, 1, 1, 1, 1, 1, 1, 1, 1, 1, 1, 1, 1, 1, 1, 1, 1, 1, 1, 1, 1, 1, 1, 1, 1, 1, 1, 1, 1, 1, 1, 1, 1, 1, 1, 1, 1, 1, 1, 1, 1, 1, 1, 1, 1, 1, 1, 1, 1, 1, 1, 1, 1, 1, 1, 1, 1, 1, 1, 1, 1, 1, 1, 1, 1, 1, 1, 1, 1, 1, 1, 1, 1, 1, 1, 1, 1, 1, 1])\n",
            " ...\n",
            " list([1, 1, 1, 1, 1, 1, 1, 1, 1, 1, 1, 1, 1, 1, 1, 1, 1, 1, 1, 1, 1, 1, 1, 1, 1, 1, 1, 1, 1, 1, 1, 1, 1, 1, 1, 1, 1, 1, 1, 1, 1, 1, 1, 1, 1, 1, 1, 1, 1, 1, 1, 1, 1, 1, 1, 1, 1, 1, 1, 1, 1, 1, 1, 1, 1, 1, 1, 1, 1, 1, 1, 1, 1, 1, 1, 1, 1, 1, 1, 1, 1, 1, 1, 1, 1, 1, 1, 1, 1, 1, 1, 1, 1, 1, 1, 1, 1, 1, 1, 1, 1, 1, 1, 1, 1, 1, 1, 1, 1, 1, 1, 1, 1, 1, 1, 1, 1, 1, 1, 1, 1, 1, 1, 1, 1, 1, 1, 1, 1, 1, 1, 1, 1, 1, 1, 1, 1, 1, 1, 1, 1, 1, 1, 1, 1, 1, 1, 1, 1, 1, 1, 1, 1, 1, 1, 1, 1, 1, 1, 1, 1, 1, 1, 1, 1, 1])\n",
            " list([1, 1, 1, 1, 1, 1, 1, 1, 1, 1, 1, 1, 1, 1, 1, 1, 1, 1, 1, 1, 1, 1, 1, 1, 1, 1, 1, 1, 1, 1, 1, 1, 1, 1, 1, 1, 1, 1, 1, 1, 1, 1, 1, 1, 1, 1, 1, 1, 1, 1, 1, 1, 1, 1, 1, 1, 1, 1, 1, 1, 1, 1, 1, 1, 1, 1, 1, 1, 1, 1, 1, 1, 1, 1, 1, 1, 1, 1, 1, 1, 1, 1, 1, 1, 1, 1, 1, 1, 1, 1, 1, 1, 1, 1, 1, 1, 1, 1, 1, 1, 1, 1, 1, 1, 1, 1, 1, 1, 1, 1, 1, 1, 1, 1, 1, 1, 1, 1, 1, 1, 1, 1, 1, 1, 1, 1, 1, 1, 1, 1, 1, 1, 1, 1, 1, 1, 1, 1, 1, 1, 1, 1, 1, 1, 1, 1, 1, 1, 1, 1, 1, 1, 1, 1, 1, 1, 1, 1, 1, 1, 1, 1, 1, 1, 1])\n",
            " list([1, 1, 1, 1, 1, 1, 1, 1, 1, 1, 1, 1, 1, 1, 1, 1, 1, 1, 1, 1, 1, 1, 1, 1, 1, 1, 1, 1, 1, 1, 1, 1, 1, 1, 1, 1, 1, 1, 1, 1, 1, 1, 1, 1, 1, 1, 1, 1, 1, 1, 1, 1, 1, 1, 1, 1, 1, 1, 1, 1, 1, 1, 1, 1, 1, 1, 1, 1, 1, 1, 1, 1, 1, 1, 1, 1, 1, 1, 1, 1, 1, 1, 1, 1, 1, 1, 1, 1, 1, 1, 1, 1, 1, 1, 1, 1, 1, 1, 1, 1, 1, 1, 1, 1, 1, 1, 1, 1, 1, 1, 1, 1, 1, 1, 1, 1, 1, 1, 1, 1, 1, 1, 1, 1, 1, 1, 1, 1, 1, 1, 1, 1, 1, 1, 1, 1, 1, 1, 1, 1, 1, 1, 1, 1, 1, 1, 1, 1, 1, 1, 1, 1, 1, 1, 1, 1, 1, 1, 1, 1, 1, 1, 1])]\n",
            "[list([0, 0, 0, 0, 0, 0, 0, 0, 0, 0, 0, 0, 0, 0, 0, 0, 0, 0, 0, 0, 0, 0, 0, 0, 0, 0, 0, 0, 0, 0, 0, 0, 0, 0, 0, 0, 0, 0, 0, 0, 0, 0, 0, 0, 0, 0, 0, 0, 0, 0, 0, 0, 0, 0, 0, 0, 0, 0, 0, 0, 0, 0, 0, 0, 0, 0, 0, 0, 0, 0, 0, 0, 0, 0, 0, 0, 0, 0, 0, 0, 0, 0, 0, 0, 0, 0, 0, 0, 0, 0, 0, 0, 0, 0, 0, 0, 0, 0, 0, 0, 0, 0, 0, 0, 0, 0, 0, 0, 0, 0, 0, 0, 0, 0, 0, 0, 0, 0, 0, 0, 0, 0, 0, 0, 0, 0, 0, 0, 0, 0, 0, 0, 0, 0, 0, 0, 0, 0, 0, 0, 0, 0, 0, 0, 0, 0, 0, 0, 0, 0, 0, 0, 0, 0, 0, 0, 0, 0, 0, 0, 1, 1, 1, 1, 1, 1, 1, 1, 1, 1, 1, 1, 1, 1, 1, 1])\n",
            " list([0, 0, 0, 0, 0, 0, 0, 0, 0, 0, 0, 0, 0, 0, 0, 0, 0, 0, 0, 0, 0, 0, 0, 0, 0, 0, 0, 0, 0, 0, 0, 0, 0, 0, 0, 0, 0, 0, 0, 0, 0, 0, 0, 0, 0, 0, 0, 0, 0, 0, 0, 0, 0, 0, 0, 0, 0, 0, 0, 0, 0, 0, 0, 0, 0, 0, 0, 0, 0, 0, 0, 0, 0, 0, 0, 0, 0, 0, 0, 0, 0, 0, 0, 0, 0, 0, 0, 0, 0, 0, 0, 0, 0, 0, 0, 0, 0, 0, 0, 0, 0, 0, 0, 0, 0, 0, 0, 0, 0, 0, 0, 0, 0, 0, 0, 0, 0, 0, 0, 0, 0, 0, 0, 0, 0, 0, 0, 0, 0, 0, 0, 0, 0, 0, 0, 0, 0, 0, 0, 0, 0, 0, 0, 0, 0, 0, 0, 0, 0, 0, 0, 0, 0, 0, 0, 0, 0, 0, 0, 0, 1, 1, 1, 1, 1, 1, 1, 1, 1, 1, 1, 1])\n",
            " list([0, 0, 0, 0, 0, 0, 0, 0, 0, 0, 0, 0, 0, 0, 0, 0, 0, 0, 0, 0, 0, 0, 0, 0, 0, 0, 0, 0, 0, 0, 0, 0, 0, 0, 0, 0, 0, 0, 0, 0, 0, 0, 0, 0, 0, 0, 0, 0, 0, 0, 0, 0, 0, 0, 0, 0, 0, 0, 0, 0, 0, 0, 0, 0, 0, 0, 0, 0, 0, 0, 0, 0, 0, 0, 0, 0, 0, 0, 0, 0, 0, 0, 0, 0, 0, 0, 0, 0, 0, 0, 0, 0, 0, 0, 0, 0, 0, 0, 0, 0, 0, 0, 0, 0, 0, 0, 0, 0, 0, 0, 0, 0, 0, 0, 0, 0, 0, 0, 0, 0, 0, 0, 0, 0, 0, 0, 0, 0, 0, 0, 0, 0, 0, 0, 0, 0, 0, 0, 0, 0, 0, 0, 0, 0, 0, 0, 0, 0, 0, 0, 0, 0, 0, 0, 0, 0, 0, 0, 0, 0, 1, 1, 1, 1, 1, 1, 1, 1, 1, 1, 1, 1, 1, 1, 1, 1])\n",
            " ...\n",
            " list([0, 0, 0, 0, 0, 0, 0, 0, 0, 0, 0, 0, 0, 0, 0, 0, 0, 0, 0, 0, 0, 0, 0, 0, 0, 0, 0, 0, 0, 0, 0, 0, 0, 0, 0, 0, 0, 0, 0, 0, 0, 0, 0, 0, 0, 0, 0, 0, 0, 0, 0, 0, 0, 0, 0, 0, 0, 0, 0, 0, 0, 0, 0, 0, 0, 0, 0, 0, 0, 0, 0, 0, 0, 0, 0, 0, 0, 0, 0, 0, 0, 0, 0, 0, 0, 0, 0, 0, 0, 0, 0, 0, 0, 0, 0, 0, 0, 0, 0, 0, 0, 0, 0, 0, 0, 0, 0, 0, 0, 0, 0, 0, 0, 0, 0, 0, 0, 0, 0, 0, 0, 0, 0, 0, 0, 0, 0, 0, 0, 0, 0, 0, 0, 0, 0, 0, 0, 0, 0, 0, 0, 0, 0, 0, 0, 0, 0, 0, 0, 0, 0, 0, 0, 1, 1, 1, 1, 1, 1, 1, 1, 1, 1, 1, 1, 1])\n",
            " list([0, 0, 0, 0, 0, 0, 0, 0, 0, 0, 0, 0, 0, 0, 0, 0, 0, 0, 0, 0, 0, 0, 0, 0, 0, 0, 0, 0, 0, 0, 0, 0, 0, 0, 0, 0, 0, 0, 0, 0, 0, 0, 0, 0, 0, 0, 0, 0, 0, 0, 0, 0, 0, 0, 0, 0, 0, 0, 0, 0, 0, 0, 0, 0, 0, 0, 0, 0, 0, 0, 0, 0, 0, 0, 0, 0, 0, 0, 0, 0, 0, 0, 0, 0, 0, 0, 0, 0, 0, 0, 0, 0, 0, 0, 0, 0, 0, 0, 0, 0, 0, 0, 0, 0, 0, 0, 0, 0, 0, 0, 0, 0, 0, 0, 0, 0, 0, 0, 0, 0, 0, 0, 0, 0, 0, 0, 0, 0, 0, 0, 0, 0, 0, 0, 0, 0, 0, 0, 0, 0, 0, 0, 0, 0, 0, 0, 0, 0, 0, 0, 0, 0, 0, 1, 1, 1, 1, 1, 1, 1, 1, 1, 1, 1, 1])\n",
            " list([0, 0, 0, 0, 0, 0, 0, 0, 0, 0, 0, 0, 0, 0, 0, 0, 0, 0, 0, 0, 0, 0, 0, 0, 0, 0, 0, 0, 0, 0, 0, 0, 0, 0, 0, 0, 0, 0, 0, 0, 0, 0, 0, 0, 0, 0, 0, 0, 0, 0, 0, 0, 0, 0, 0, 0, 0, 0, 0, 0, 0, 0, 0, 0, 0, 0, 0, 0, 0, 0, 0, 0, 0, 0, 0, 0, 0, 0, 0, 0, 0, 0, 0, 0, 0, 0, 0, 0, 0, 0, 0, 0, 0, 0, 0, 0, 0, 0, 0, 0, 0, 0, 0, 0, 0, 0, 0, 0, 0, 0, 0, 0, 0, 0, 0, 0, 0, 0, 0, 0, 0, 0, 0, 0, 0, 0, 0, 0, 0, 0, 0, 0, 0, 0, 0, 0, 0, 0, 0, 0, 0, 0, 0, 0, 0, 0, 0, 0, 0, 0, 0, 0, 0, 1, 1, 1, 1, 1, 1, 1, 1, 1, 1])]\n",
            "[114  40  65 ...  97  36   1]\n",
            "[121  44  67 ...  97  36   3]\n",
            "239\n",
            "[list([101, 3565, 4605, 2753, 2001, 2019, 2137, 2374, 2208, 2000, 5646, 1996, 3410, 1997, 1996, 2120, 2374, 2223, 1006, 5088, 1007, 2005, 1996, 2325, 2161, 1012, 1996, 2137, 2374, 3034, 1006, 10511, 1007, 3410, 7573, 14169, 3249, 1996, 2120, 2374, 3034, 1006, 22309, 1007, 3410, 3792, 12915, 2484, 1516, 2184, 2000, 7796, 2037, 2353, 3565, 4605, 2516, 1012, 1996, 2208, 2001, 2209, 2006, 2337, 1021, 1010, 2355, 1010, 2012, 11902, 1005, 1055, 3346, 1999, 1996, 2624, 3799, 3016, 2181, 2012, 4203, 10254, 1010, 2662, 1012, 2004, 2023, 2001, 1996, 12951, 3565, 4605, 1010, 1996, 2223, 13155, 1996, 1000, 3585, 5315, 1000, 2007, 2536, 2751, 1011, 11773, 11107, 1010, 2004, 2092, 2004, 8184, 28324, 2075, 1996, 4535, 1997, 10324, 2169, 3565, 4605, 2208, 2007, 3142, 16371, 28990, 2015, 1006, 2104, 2029, 1996, 2208, 2052, 2031, 2042, 2124, 2004, 1000, 3565, 4605, 1048, 1000, 1007, 1010, 2061, 2008, 1996, 8154, 2071, 14500, 3444, 1996, 5640, 16371, 28990, 2015, 2753, 1012, 102, 2029, 5088, 2136, 3421, 1996, 10511, 2012, 3565, 4605, 2753, 1029, 102])\n",
            " list([101, 3565, 4605, 2753, 2001, 2019, 2137, 2374, 2208, 2000, 5646, 1996, 3410, 1997, 1996, 2120, 2374, 2223, 1006, 5088, 1007, 2005, 1996, 2325, 2161, 1012, 1996, 2137, 2374, 3034, 1006, 10511, 1007, 3410, 7573, 14169, 3249, 1996, 2120, 2374, 3034, 1006, 22309, 1007, 3410, 3792, 12915, 2484, 1516, 2184, 2000, 7796, 2037, 2353, 3565, 4605, 2516, 1012, 1996, 2208, 2001, 2209, 2006, 2337, 1021, 1010, 2355, 1010, 2012, 11902, 1005, 1055, 3346, 1999, 1996, 2624, 3799, 3016, 2181, 2012, 4203, 10254, 1010, 2662, 1012, 2004, 2023, 2001, 1996, 12951, 3565, 4605, 1010, 1996, 2223, 13155, 1996, 1000, 3585, 5315, 1000, 2007, 2536, 2751, 1011, 11773, 11107, 1010, 2004, 2092, 2004, 8184, 28324, 2075, 1996, 4535, 1997, 10324, 2169, 3565, 4605, 2208, 2007, 3142, 16371, 28990, 2015, 1006, 2104, 2029, 1996, 2208, 2052, 2031, 2042, 2124, 2004, 1000, 3565, 4605, 1048, 1000, 1007, 1010, 2061, 2008, 1996, 8154, 2071, 14500, 3444, 1996, 5640, 16371, 28990, 2015, 2753, 1012, 102, 2029, 5088, 2136, 3421, 1996, 22309, 2012, 3565, 4605, 2753, 1029, 102])\n",
            " list([101, 3565, 4605, 2753, 2001, 2019, 2137, 2374, 2208, 2000, 5646, 1996, 3410, 1997, 1996, 2120, 2374, 2223, 1006, 5088, 1007, 2005, 1996, 2325, 2161, 1012, 1996, 2137, 2374, 3034, 1006, 10511, 1007, 3410, 7573, 14169, 3249, 1996, 2120, 2374, 3034, 1006, 22309, 1007, 3410, 3792, 12915, 2484, 1516, 2184, 2000, 7796, 2037, 2353, 3565, 4605, 2516, 1012, 1996, 2208, 2001, 2209, 2006, 2337, 1021, 1010, 2355, 1010, 2012, 11902, 1005, 1055, 3346, 1999, 1996, 2624, 3799, 3016, 2181, 2012, 4203, 10254, 1010, 2662, 1012, 2004, 2023, 2001, 1996, 12951, 3565, 4605, 1010, 1996, 2223, 13155, 1996, 1000, 3585, 5315, 1000, 2007, 2536, 2751, 1011, 11773, 11107, 1010, 2004, 2092, 2004, 8184, 28324, 2075, 1996, 4535, 1997, 10324, 2169, 3565, 4605, 2208, 2007, 3142, 16371, 28990, 2015, 1006, 2104, 2029, 1996, 2208, 2052, 2031, 2042, 2124, 2004, 1000, 3565, 4605, 1048, 1000, 1007, 1010, 2061, 2008, 1996, 8154, 2071, 14500, 3444, 1996, 5640, 16371, 28990, 2015, 2753, 1012, 102, 2073, 2106, 3565, 4605, 2753, 2202, 2173, 1029, 102])\n",
            " ...\n",
            " list([101, 1996, 9044, 1011, 2486, 2038, 1037, 12046, 13637, 1010, 2625, 4141, 2109, 2084, 1996, 8446, 1024, 1996, 11382, 24915, 1011, 2486, 1006, 4705, 2546, 1007, 1006, 2823, 11382, 4135, 26029, 2094, 1007, 1010, 2003, 1996, 2486, 4654, 28728, 2011, 3115, 8992, 2006, 2028, 11382, 24915, 1997, 3742, 1012, 1996, 11382, 24915, 1011, 2486, 5260, 2000, 2019, 6585, 1010, 2021, 6524, 2109, 3131, 1997, 3742, 1024, 1996, 12046, 23667, 1006, 2823, 14757, 2030, 1044, 8516, 1007, 2003, 2008, 3742, 2008, 23306, 2015, 2012, 1015, 1049, 1087, 1055, 22543, 2475, 2043, 13532, 2000, 1037, 2486, 1997, 1015, 4705, 2546, 1012, 1996, 11382, 24915, 1011, 2486, 2003, 2025, 1037, 2112, 1997, 1996, 2715, 9033, 2291, 1010, 1998, 2003, 3227, 2139, 28139, 12921, 1025, 2174, 2009, 2145, 5927, 2224, 2005, 2070, 5682, 2004, 14026, 2948, 3635, 1010, 6892, 7400, 1010, 10165, 3764, 6980, 1010, 15894, 16255, 2818, 10906, 1998, 3194, 6434, 15894, 1012, 2060, 8115, 7231, 3197, 1997, 2486, 2421, 1996, 2358, 10222, 2063, 1010, 2029, 2003, 5662, 2000, 6694, 1050, 1010, 1998, 1996, 11382, 2361, 1010, 2029, 2003, 5662, 2000, 6694, 6053, 2546, 1012, 102, 2054, 2003, 1037, 2200, 15839, 2109, 3131, 1997, 3742, 1999, 1996, 12046, 2291, 1029, 102])\n",
            " list([101, 1996, 9044, 1011, 2486, 2038, 1037, 12046, 13637, 1010, 2625, 4141, 2109, 2084, 1996, 8446, 1024, 1996, 11382, 24915, 1011, 2486, 1006, 4705, 2546, 1007, 1006, 2823, 11382, 4135, 26029, 2094, 1007, 1010, 2003, 1996, 2486, 4654, 28728, 2011, 3115, 8992, 2006, 2028, 11382, 24915, 1997, 3742, 1012, 1996, 11382, 24915, 1011, 2486, 5260, 2000, 2019, 6585, 1010, 2021, 6524, 2109, 3131, 1997, 3742, 1024, 1996, 12046, 23667, 1006, 2823, 14757, 2030, 1044, 8516, 1007, 2003, 2008, 3742, 2008, 23306, 2015, 2012, 1015, 1049, 1087, 1055, 22543, 2475, 2043, 13532, 2000, 1037, 2486, 1997, 1015, 4705, 2546, 1012, 1996, 11382, 24915, 1011, 2486, 2003, 2025, 1037, 2112, 1997, 1996, 2715, 9033, 2291, 1010, 1998, 2003, 3227, 2139, 28139, 12921, 1025, 2174, 2009, 2145, 5927, 2224, 2005, 2070, 5682, 2004, 14026, 2948, 3635, 1010, 6892, 7400, 1010, 10165, 3764, 6980, 1010, 15894, 16255, 2818, 10906, 1998, 3194, 6434, 15894, 1012, 2060, 8115, 7231, 3197, 1997, 2486, 2421, 1996, 2358, 10222, 2063, 1010, 2029, 2003, 5662, 2000, 6694, 1050, 1010, 1998, 1996, 11382, 2361, 1010, 2029, 2003, 5662, 2000, 6694, 6053, 2546, 1012, 102, 2054, 15839, 2109, 2744, 1997, 1037, 3131, 1997, 2486, 5020, 2000, 6694, 9044, 1055, 1997, 2486, 1029, 102])\n",
            " list([101, 1996, 9044, 1011, 2486, 2038, 1037, 12046, 13637, 1010, 2625, 4141, 2109, 2084, 1996, 8446, 1024, 1996, 11382, 24915, 1011, 2486, 1006, 4705, 2546, 1007, 1006, 2823, 11382, 4135, 26029, 2094, 1007, 1010, 2003, 1996, 2486, 4654, 28728, 2011, 3115, 8992, 2006, 2028, 11382, 24915, 1997, 3742, 1012, 1996, 11382, 24915, 1011, 2486, 5260, 2000, 2019, 6585, 1010, 2021, 6524, 2109, 3131, 1997, 3742, 1024, 1996, 12046, 23667, 1006, 2823, 14757, 2030, 1044, 8516, 1007, 2003, 2008, 3742, 2008, 23306, 2015, 2012, 1015, 1049, 1087, 1055, 22543, 2475, 2043, 13532, 2000, 1037, 2486, 1997, 1015, 4705, 2546, 1012, 1996, 11382, 24915, 1011, 2486, 2003, 2025, 1037, 2112, 1997, 1996, 2715, 9033, 2291, 1010, 1998, 2003, 3227, 2139, 28139, 12921, 1025, 2174, 2009, 2145, 5927, 2224, 2005, 2070, 5682, 2004, 14026, 2948, 3635, 1010, 6892, 7400, 1010, 10165, 3764, 6980, 1010, 15894, 16255, 2818, 10906, 1998, 3194, 6434, 15894, 1012, 2060, 8115, 7231, 3197, 1997, 2486, 2421, 1996, 2358, 10222, 2063, 1010, 2029, 2003, 5662, 2000, 6694, 1050, 1010, 1998, 1996, 11382, 2361, 1010, 2029, 2003, 5662, 2000, 6694, 6053, 2546, 1012, 102, 2054, 2003, 1996, 15839, 2109, 2486, 3131, 5020, 2000, 2028, 4595, 8446, 2015, 1029, 102])]\n",
            "[list([1, 1, 1, 1, 1, 1, 1, 1, 1, 1, 1, 1, 1, 1, 1, 1, 1, 1, 1, 1, 1, 1, 1, 1, 1, 1, 1, 1, 1, 1, 1, 1, 1, 1, 1, 1, 1, 1, 1, 1, 1, 1, 1, 1, 1, 1, 1, 1, 1, 1, 1, 1, 1, 1, 1, 1, 1, 1, 1, 1, 1, 1, 1, 1, 1, 1, 1, 1, 1, 1, 1, 1, 1, 1, 1, 1, 1, 1, 1, 1, 1, 1, 1, 1, 1, 1, 1, 1, 1, 1, 1, 1, 1, 1, 1, 1, 1, 1, 1, 1, 1, 1, 1, 1, 1, 1, 1, 1, 1, 1, 1, 1, 1, 1, 1, 1, 1, 1, 1, 1, 1, 1, 1, 1, 1, 1, 1, 1, 1, 1, 1, 1, 1, 1, 1, 1, 1, 1, 1, 1, 1, 1, 1, 1, 1, 1, 1, 1, 1, 1, 1, 1, 1, 1, 1, 1, 1, 1, 1, 1, 1, 1, 1, 1, 1, 1, 1, 1, 1, 1, 1])\n",
            " list([1, 1, 1, 1, 1, 1, 1, 1, 1, 1, 1, 1, 1, 1, 1, 1, 1, 1, 1, 1, 1, 1, 1, 1, 1, 1, 1, 1, 1, 1, 1, 1, 1, 1, 1, 1, 1, 1, 1, 1, 1, 1, 1, 1, 1, 1, 1, 1, 1, 1, 1, 1, 1, 1, 1, 1, 1, 1, 1, 1, 1, 1, 1, 1, 1, 1, 1, 1, 1, 1, 1, 1, 1, 1, 1, 1, 1, 1, 1, 1, 1, 1, 1, 1, 1, 1, 1, 1, 1, 1, 1, 1, 1, 1, 1, 1, 1, 1, 1, 1, 1, 1, 1, 1, 1, 1, 1, 1, 1, 1, 1, 1, 1, 1, 1, 1, 1, 1, 1, 1, 1, 1, 1, 1, 1, 1, 1, 1, 1, 1, 1, 1, 1, 1, 1, 1, 1, 1, 1, 1, 1, 1, 1, 1, 1, 1, 1, 1, 1, 1, 1, 1, 1, 1, 1, 1, 1, 1, 1, 1, 1, 1, 1, 1, 1, 1, 1, 1, 1, 1, 1])\n",
            " list([1, 1, 1, 1, 1, 1, 1, 1, 1, 1, 1, 1, 1, 1, 1, 1, 1, 1, 1, 1, 1, 1, 1, 1, 1, 1, 1, 1, 1, 1, 1, 1, 1, 1, 1, 1, 1, 1, 1, 1, 1, 1, 1, 1, 1, 1, 1, 1, 1, 1, 1, 1, 1, 1, 1, 1, 1, 1, 1, 1, 1, 1, 1, 1, 1, 1, 1, 1, 1, 1, 1, 1, 1, 1, 1, 1, 1, 1, 1, 1, 1, 1, 1, 1, 1, 1, 1, 1, 1, 1, 1, 1, 1, 1, 1, 1, 1, 1, 1, 1, 1, 1, 1, 1, 1, 1, 1, 1, 1, 1, 1, 1, 1, 1, 1, 1, 1, 1, 1, 1, 1, 1, 1, 1, 1, 1, 1, 1, 1, 1, 1, 1, 1, 1, 1, 1, 1, 1, 1, 1, 1, 1, 1, 1, 1, 1, 1, 1, 1, 1, 1, 1, 1, 1, 1, 1, 1, 1, 1, 1, 1, 1, 1, 1, 1, 1, 1, 1])\n",
            " ...\n",
            " list([1, 1, 1, 1, 1, 1, 1, 1, 1, 1, 1, 1, 1, 1, 1, 1, 1, 1, 1, 1, 1, 1, 1, 1, 1, 1, 1, 1, 1, 1, 1, 1, 1, 1, 1, 1, 1, 1, 1, 1, 1, 1, 1, 1, 1, 1, 1, 1, 1, 1, 1, 1, 1, 1, 1, 1, 1, 1, 1, 1, 1, 1, 1, 1, 1, 1, 1, 1, 1, 1, 1, 1, 1, 1, 1, 1, 1, 1, 1, 1, 1, 1, 1, 1, 1, 1, 1, 1, 1, 1, 1, 1, 1, 1, 1, 1, 1, 1, 1, 1, 1, 1, 1, 1, 1, 1, 1, 1, 1, 1, 1, 1, 1, 1, 1, 1, 1, 1, 1, 1, 1, 1, 1, 1, 1, 1, 1, 1, 1, 1, 1, 1, 1, 1, 1, 1, 1, 1, 1, 1, 1, 1, 1, 1, 1, 1, 1, 1, 1, 1, 1, 1, 1, 1, 1, 1, 1, 1, 1, 1, 1, 1, 1, 1, 1, 1, 1, 1, 1, 1, 1, 1, 1, 1, 1, 1, 1, 1, 1, 1, 1, 1, 1, 1, 1, 1, 1, 1, 1, 1, 1, 1, 1, 1, 1, 1, 1, 1])\n",
            " list([1, 1, 1, 1, 1, 1, 1, 1, 1, 1, 1, 1, 1, 1, 1, 1, 1, 1, 1, 1, 1, 1, 1, 1, 1, 1, 1, 1, 1, 1, 1, 1, 1, 1, 1, 1, 1, 1, 1, 1, 1, 1, 1, 1, 1, 1, 1, 1, 1, 1, 1, 1, 1, 1, 1, 1, 1, 1, 1, 1, 1, 1, 1, 1, 1, 1, 1, 1, 1, 1, 1, 1, 1, 1, 1, 1, 1, 1, 1, 1, 1, 1, 1, 1, 1, 1, 1, 1, 1, 1, 1, 1, 1, 1, 1, 1, 1, 1, 1, 1, 1, 1, 1, 1, 1, 1, 1, 1, 1, 1, 1, 1, 1, 1, 1, 1, 1, 1, 1, 1, 1, 1, 1, 1, 1, 1, 1, 1, 1, 1, 1, 1, 1, 1, 1, 1, 1, 1, 1, 1, 1, 1, 1, 1, 1, 1, 1, 1, 1, 1, 1, 1, 1, 1, 1, 1, 1, 1, 1, 1, 1, 1, 1, 1, 1, 1, 1, 1, 1, 1, 1, 1, 1, 1, 1, 1, 1, 1, 1, 1, 1, 1, 1, 1, 1, 1, 1, 1, 1, 1, 1, 1, 1, 1, 1, 1, 1, 1, 1, 1, 1])\n",
            " list([1, 1, 1, 1, 1, 1, 1, 1, 1, 1, 1, 1, 1, 1, 1, 1, 1, 1, 1, 1, 1, 1, 1, 1, 1, 1, 1, 1, 1, 1, 1, 1, 1, 1, 1, 1, 1, 1, 1, 1, 1, 1, 1, 1, 1, 1, 1, 1, 1, 1, 1, 1, 1, 1, 1, 1, 1, 1, 1, 1, 1, 1, 1, 1, 1, 1, 1, 1, 1, 1, 1, 1, 1, 1, 1, 1, 1, 1, 1, 1, 1, 1, 1, 1, 1, 1, 1, 1, 1, 1, 1, 1, 1, 1, 1, 1, 1, 1, 1, 1, 1, 1, 1, 1, 1, 1, 1, 1, 1, 1, 1, 1, 1, 1, 1, 1, 1, 1, 1, 1, 1, 1, 1, 1, 1, 1, 1, 1, 1, 1, 1, 1, 1, 1, 1, 1, 1, 1, 1, 1, 1, 1, 1, 1, 1, 1, 1, 1, 1, 1, 1, 1, 1, 1, 1, 1, 1, 1, 1, 1, 1, 1, 1, 1, 1, 1, 1, 1, 1, 1, 1, 1, 1, 1, 1, 1, 1, 1, 1, 1, 1, 1, 1, 1, 1, 1, 1, 1, 1, 1, 1, 1, 1, 1, 1, 1, 1, 1])]\n",
            "[list([0, 0, 0, 0, 0, 0, 0, 0, 0, 0, 0, 0, 0, 0, 0, 0, 0, 0, 0, 0, 0, 0, 0, 0, 0, 0, 0, 0, 0, 0, 0, 0, 0, 0, 0, 0, 0, 0, 0, 0, 0, 0, 0, 0, 0, 0, 0, 0, 0, 0, 0, 0, 0, 0, 0, 0, 0, 0, 0, 0, 0, 0, 0, 0, 0, 0, 0, 0, 0, 0, 0, 0, 0, 0, 0, 0, 0, 0, 0, 0, 0, 0, 0, 0, 0, 0, 0, 0, 0, 0, 0, 0, 0, 0, 0, 0, 0, 0, 0, 0, 0, 0, 0, 0, 0, 0, 0, 0, 0, 0, 0, 0, 0, 0, 0, 0, 0, 0, 0, 0, 0, 0, 0, 0, 0, 0, 0, 0, 0, 0, 0, 0, 0, 0, 0, 0, 0, 0, 0, 0, 0, 0, 0, 0, 0, 0, 0, 0, 0, 0, 0, 0, 0, 0, 0, 0, 0, 0, 0, 1, 1, 1, 1, 1, 1, 1, 1, 1, 1, 1, 1])\n",
            " list([0, 0, 0, 0, 0, 0, 0, 0, 0, 0, 0, 0, 0, 0, 0, 0, 0, 0, 0, 0, 0, 0, 0, 0, 0, 0, 0, 0, 0, 0, 0, 0, 0, 0, 0, 0, 0, 0, 0, 0, 0, 0, 0, 0, 0, 0, 0, 0, 0, 0, 0, 0, 0, 0, 0, 0, 0, 0, 0, 0, 0, 0, 0, 0, 0, 0, 0, 0, 0, 0, 0, 0, 0, 0, 0, 0, 0, 0, 0, 0, 0, 0, 0, 0, 0, 0, 0, 0, 0, 0, 0, 0, 0, 0, 0, 0, 0, 0, 0, 0, 0, 0, 0, 0, 0, 0, 0, 0, 0, 0, 0, 0, 0, 0, 0, 0, 0, 0, 0, 0, 0, 0, 0, 0, 0, 0, 0, 0, 0, 0, 0, 0, 0, 0, 0, 0, 0, 0, 0, 0, 0, 0, 0, 0, 0, 0, 0, 0, 0, 0, 0, 0, 0, 0, 0, 0, 0, 0, 0, 1, 1, 1, 1, 1, 1, 1, 1, 1, 1, 1, 1])\n",
            " list([0, 0, 0, 0, 0, 0, 0, 0, 0, 0, 0, 0, 0, 0, 0, 0, 0, 0, 0, 0, 0, 0, 0, 0, 0, 0, 0, 0, 0, 0, 0, 0, 0, 0, 0, 0, 0, 0, 0, 0, 0, 0, 0, 0, 0, 0, 0, 0, 0, 0, 0, 0, 0, 0, 0, 0, 0, 0, 0, 0, 0, 0, 0, 0, 0, 0, 0, 0, 0, 0, 0, 0, 0, 0, 0, 0, 0, 0, 0, 0, 0, 0, 0, 0, 0, 0, 0, 0, 0, 0, 0, 0, 0, 0, 0, 0, 0, 0, 0, 0, 0, 0, 0, 0, 0, 0, 0, 0, 0, 0, 0, 0, 0, 0, 0, 0, 0, 0, 0, 0, 0, 0, 0, 0, 0, 0, 0, 0, 0, 0, 0, 0, 0, 0, 0, 0, 0, 0, 0, 0, 0, 0, 0, 0, 0, 0, 0, 0, 0, 0, 0, 0, 0, 0, 0, 0, 0, 0, 0, 1, 1, 1, 1, 1, 1, 1, 1, 1])\n",
            " ...\n",
            " list([0, 0, 0, 0, 0, 0, 0, 0, 0, 0, 0, 0, 0, 0, 0, 0, 0, 0, 0, 0, 0, 0, 0, 0, 0, 0, 0, 0, 0, 0, 0, 0, 0, 0, 0, 0, 0, 0, 0, 0, 0, 0, 0, 0, 0, 0, 0, 0, 0, 0, 0, 0, 0, 0, 0, 0, 0, 0, 0, 0, 0, 0, 0, 0, 0, 0, 0, 0, 0, 0, 0, 0, 0, 0, 0, 0, 0, 0, 0, 0, 0, 0, 0, 0, 0, 0, 0, 0, 0, 0, 0, 0, 0, 0, 0, 0, 0, 0, 0, 0, 0, 0, 0, 0, 0, 0, 0, 0, 0, 0, 0, 0, 0, 0, 0, 0, 0, 0, 0, 0, 0, 0, 0, 0, 0, 0, 0, 0, 0, 0, 0, 0, 0, 0, 0, 0, 0, 0, 0, 0, 0, 0, 0, 0, 0, 0, 0, 0, 0, 0, 0, 0, 0, 0, 0, 0, 0, 0, 0, 0, 0, 0, 0, 0, 0, 0, 0, 0, 0, 0, 0, 0, 0, 0, 0, 0, 0, 0, 0, 0, 0, 0, 0, 1, 1, 1, 1, 1, 1, 1, 1, 1, 1, 1, 1, 1, 1, 1])\n",
            " list([0, 0, 0, 0, 0, 0, 0, 0, 0, 0, 0, 0, 0, 0, 0, 0, 0, 0, 0, 0, 0, 0, 0, 0, 0, 0, 0, 0, 0, 0, 0, 0, 0, 0, 0, 0, 0, 0, 0, 0, 0, 0, 0, 0, 0, 0, 0, 0, 0, 0, 0, 0, 0, 0, 0, 0, 0, 0, 0, 0, 0, 0, 0, 0, 0, 0, 0, 0, 0, 0, 0, 0, 0, 0, 0, 0, 0, 0, 0, 0, 0, 0, 0, 0, 0, 0, 0, 0, 0, 0, 0, 0, 0, 0, 0, 0, 0, 0, 0, 0, 0, 0, 0, 0, 0, 0, 0, 0, 0, 0, 0, 0, 0, 0, 0, 0, 0, 0, 0, 0, 0, 0, 0, 0, 0, 0, 0, 0, 0, 0, 0, 0, 0, 0, 0, 0, 0, 0, 0, 0, 0, 0, 0, 0, 0, 0, 0, 0, 0, 0, 0, 0, 0, 0, 0, 0, 0, 0, 0, 0, 0, 0, 0, 0, 0, 0, 0, 0, 0, 0, 0, 0, 0, 0, 0, 0, 0, 0, 0, 0, 0, 0, 0, 1, 1, 1, 1, 1, 1, 1, 1, 1, 1, 1, 1, 1, 1, 1, 1, 1, 1])\n",
            " list([0, 0, 0, 0, 0, 0, 0, 0, 0, 0, 0, 0, 0, 0, 0, 0, 0, 0, 0, 0, 0, 0, 0, 0, 0, 0, 0, 0, 0, 0, 0, 0, 0, 0, 0, 0, 0, 0, 0, 0, 0, 0, 0, 0, 0, 0, 0, 0, 0, 0, 0, 0, 0, 0, 0, 0, 0, 0, 0, 0, 0, 0, 0, 0, 0, 0, 0, 0, 0, 0, 0, 0, 0, 0, 0, 0, 0, 0, 0, 0, 0, 0, 0, 0, 0, 0, 0, 0, 0, 0, 0, 0, 0, 0, 0, 0, 0, 0, 0, 0, 0, 0, 0, 0, 0, 0, 0, 0, 0, 0, 0, 0, 0, 0, 0, 0, 0, 0, 0, 0, 0, 0, 0, 0, 0, 0, 0, 0, 0, 0, 0, 0, 0, 0, 0, 0, 0, 0, 0, 0, 0, 0, 0, 0, 0, 0, 0, 0, 0, 0, 0, 0, 0, 0, 0, 0, 0, 0, 0, 0, 0, 0, 0, 0, 0, 0, 0, 0, 0, 0, 0, 0, 0, 0, 0, 0, 0, 0, 0, 0, 0, 0, 0, 1, 1, 1, 1, 1, 1, 1, 1, 1, 1, 1, 1, 1, 1, 1])]\n",
            "[ 34  45  80 ...  68 171 158]\n",
            "[ 35  46  83 ...  68 172 160]\n"
          ],
          "name": "stdout"
        }
      ]
    },
    {
      "cell_type": "code",
      "metadata": {
        "id": "C__CaeZfI76k",
        "outputId": "37b73359-518e-4b97-dc10-56f51ed9a118",
        "colab": {
          "base_uri": "https://localhost:8080/"
        }
      },
      "source": [
        "print(f\"{len(sQUADTrain)} training points created.\")\n",
        "print(f\"{len(sQUADEval)} evaluation points created.\")\n"
      ],
      "execution_count": 8,
      "outputs": [
        {
          "output_type": "stream",
          "text": [
            "87599 training points created.\n",
            "10570 evaluation points created.\n"
          ],
          "name": "stdout"
        }
      ]
    },
    {
      "cell_type": "markdown",
      "metadata": {
        "id": "hYFKER52rBga"
      },
      "source": [
        "## Create model\n"
      ]
    },
    {
      "cell_type": "code",
      "metadata": {
        "id": "X8I0HRkSgx4_"
      },
      "source": [
        "def createModel():\n",
        "    #Bert model\n",
        "    TFmodel = TFBertModel.from_pretrained('bert-base-uncased')\n",
        "    #Create model's inputs\n",
        "    inputIds= tf.keras.layers.Input((max_len,), dtype=tf.int32)\n",
        "    inputAttention= tf.keras.layers.Input((max_len,), dtype=tf.int32)\n",
        "    inputTokenType= tf.keras.layers.Input((max_len,), dtype=tf.int32)\n",
        "    \n",
        "    #Pass through BERT model\n",
        "    bertOut= TFmodel(inputIds,attention_mask=inputAttention,token_type_ids=inputTokenType)[0]\n",
        "\n",
        "    #Create classification layer\n",
        "    start_logits= tf.keras.layers.Dense(1, use_bias= False)(bertOut)\n",
        "    start_logits= tf.keras.layers.Flatten()(start_logits)    \n",
        "    end_logits= tf.keras.layers.Dense(1, use_bias=False)(bertOut)\n",
        "    end_logits= tf.keras.layers.Flatten()(end_logits)\n",
        "    #Pass though softmax\n",
        "    start_prob = tf.keras.layers.Activation(tf.keras.activations.softmax)(start_logits)\n",
        "    end_prob = tf.keras.layers.Activation(tf.keras.activations.softmax)(end_logits)\n",
        "\n",
        "    model =tf.keras.Model(inputs=[ inputIds, inputAttention, inputTokenType],\n",
        "                          outputs=[start_prob, end_prob])\n",
        "    loss= tf.keras.losses.SparseCategoricalCrossentropy(from_logits=False)\n",
        "\n",
        "    optimizer = tf.keras.optimizers.Adam(lr= 5e-5)\n",
        "    model.compile(optimizer = optimizer, loss= [loss, loss])\n",
        "    return model\n",
        "\n",
        "\n",
        "\n"
      ],
      "execution_count": 9,
      "outputs": []
    },
    {
      "cell_type": "markdown",
      "metadata": {
        "id": "_GgEoPE2v3Z3"
      },
      "source": [
        "## Run on TPU's"
      ]
    },
    {
      "cell_type": "code",
      "metadata": {
        "id": "UpUgT1MxjsAe",
        "outputId": "f1d77c29-b11c-4326-812d-572a2e144284",
        "colab": {
          "base_uri": "https://localhost:8080/",
          "height": 1000,
          "referenced_widgets": [
            "bcde71ba9c5e4a19b0648e481aabd1fa",
            "77dcb768f3cb4df78c46743da5466e24",
            "81b9f29deeab40ac8ead18de93f67b84",
            "6aa9d9b41780429fb53c3601f0034dda",
            "aafeb0d46df14e20b32c66dc3c380848",
            "58701879b8044bb48a9509c7e8345dda",
            "55e4220c8efb4fa7b1241b29710bf8a2",
            "c5e1df95c17f4ea2855b2dcfa0cab951",
            "657a2fc9c8cc45ce9bd90e496225d0c0",
            "ae774a325d3543598f4f61ec53d83f43",
            "f1c23651a3074fe2983cf7c3db6a07fb",
            "ac88a50ca26f489fbd0c866852787200",
            "5159ed24c84044ef85b8221a03734027",
            "3843ca1d088b409dbaddea95a0cb7d9c",
            "3532d384eb0e4823aa2e99934214091d",
            "b69801a65b03469c9119b1fadee04fb3"
          ]
        }
      },
      "source": [
        "use_tpu = True\n",
        "if use_tpu:\n",
        "    # Create distribution strategy\n",
        "    tpu = tf.distribute.cluster_resolver.TPUClusterResolver()\n",
        "    tf.config.experimental_connect_to_cluster(tpu)\n",
        "    tf.tpu.experimental.initialize_tpu_system(tpu)\n",
        "    strategy = tf.distribute.experimental.TPUStrategy(tpu)\n",
        "\n",
        "    # Create model\n",
        "    with strategy.scope():\n",
        "        model = createModel()\n",
        "else:\n",
        "    model = createModel()\n",
        "\n",
        "model.summary()"
      ],
      "execution_count": 10,
      "outputs": [
        {
          "output_type": "stream",
          "text": [
            "INFO:absl:Entering into master device scope: /job:worker/replica:0/task:0/device:CPU:0\n"
          ],
          "name": "stderr"
        },
        {
          "output_type": "stream",
          "text": [
            "INFO:tensorflow:Initializing the TPU system: grpc://10.30.125.34:8470\n"
          ],
          "name": "stdout"
        },
        {
          "output_type": "stream",
          "text": [
            "INFO:tensorflow:Initializing the TPU system: grpc://10.30.125.34:8470\n"
          ],
          "name": "stderr"
        },
        {
          "output_type": "stream",
          "text": [
            "INFO:tensorflow:Clearing out eager caches\n"
          ],
          "name": "stdout"
        },
        {
          "output_type": "stream",
          "text": [
            "INFO:tensorflow:Clearing out eager caches\n"
          ],
          "name": "stderr"
        },
        {
          "output_type": "stream",
          "text": [
            "INFO:tensorflow:Finished initializing TPU system.\n"
          ],
          "name": "stdout"
        },
        {
          "output_type": "stream",
          "text": [
            "INFO:tensorflow:Finished initializing TPU system.\n",
            "WARNING:absl:`tf.distribute.experimental.TPUStrategy` is deprecated, please use  the non experimental symbol `tf.distribute.TPUStrategy` instead.\n"
          ],
          "name": "stderr"
        },
        {
          "output_type": "stream",
          "text": [
            "INFO:tensorflow:Found TPU system:\n"
          ],
          "name": "stdout"
        },
        {
          "output_type": "stream",
          "text": [
            "INFO:tensorflow:Found TPU system:\n"
          ],
          "name": "stderr"
        },
        {
          "output_type": "stream",
          "text": [
            "INFO:tensorflow:*** Num TPU Cores: 8\n"
          ],
          "name": "stdout"
        },
        {
          "output_type": "stream",
          "text": [
            "INFO:tensorflow:*** Num TPU Cores: 8\n"
          ],
          "name": "stderr"
        },
        {
          "output_type": "stream",
          "text": [
            "INFO:tensorflow:*** Num TPU Workers: 1\n"
          ],
          "name": "stdout"
        },
        {
          "output_type": "stream",
          "text": [
            "INFO:tensorflow:*** Num TPU Workers: 1\n"
          ],
          "name": "stderr"
        },
        {
          "output_type": "stream",
          "text": [
            "INFO:tensorflow:*** Num TPU Cores Per Worker: 8\n"
          ],
          "name": "stdout"
        },
        {
          "output_type": "stream",
          "text": [
            "INFO:tensorflow:*** Num TPU Cores Per Worker: 8\n"
          ],
          "name": "stderr"
        },
        {
          "output_type": "stream",
          "text": [
            "INFO:tensorflow:*** Available Device: _DeviceAttributes(/job:localhost/replica:0/task:0/device:CPU:0, CPU, 0, 0)\n"
          ],
          "name": "stdout"
        },
        {
          "output_type": "stream",
          "text": [
            "INFO:tensorflow:*** Available Device: _DeviceAttributes(/job:localhost/replica:0/task:0/device:CPU:0, CPU, 0, 0)\n"
          ],
          "name": "stderr"
        },
        {
          "output_type": "stream",
          "text": [
            "INFO:tensorflow:*** Available Device: _DeviceAttributes(/job:localhost/replica:0/task:0/device:XLA_CPU:0, XLA_CPU, 0, 0)\n"
          ],
          "name": "stdout"
        },
        {
          "output_type": "stream",
          "text": [
            "INFO:tensorflow:*** Available Device: _DeviceAttributes(/job:localhost/replica:0/task:0/device:XLA_CPU:0, XLA_CPU, 0, 0)\n"
          ],
          "name": "stderr"
        },
        {
          "output_type": "stream",
          "text": [
            "INFO:tensorflow:*** Available Device: _DeviceAttributes(/job:worker/replica:0/task:0/device:CPU:0, CPU, 0, 0)\n"
          ],
          "name": "stdout"
        },
        {
          "output_type": "stream",
          "text": [
            "INFO:tensorflow:*** Available Device: _DeviceAttributes(/job:worker/replica:0/task:0/device:CPU:0, CPU, 0, 0)\n"
          ],
          "name": "stderr"
        },
        {
          "output_type": "stream",
          "text": [
            "INFO:tensorflow:*** Available Device: _DeviceAttributes(/job:worker/replica:0/task:0/device:TPU:0, TPU, 0, 0)\n"
          ],
          "name": "stdout"
        },
        {
          "output_type": "stream",
          "text": [
            "INFO:tensorflow:*** Available Device: _DeviceAttributes(/job:worker/replica:0/task:0/device:TPU:0, TPU, 0, 0)\n"
          ],
          "name": "stderr"
        },
        {
          "output_type": "stream",
          "text": [
            "INFO:tensorflow:*** Available Device: _DeviceAttributes(/job:worker/replica:0/task:0/device:TPU:1, TPU, 0, 0)\n"
          ],
          "name": "stdout"
        },
        {
          "output_type": "stream",
          "text": [
            "INFO:tensorflow:*** Available Device: _DeviceAttributes(/job:worker/replica:0/task:0/device:TPU:1, TPU, 0, 0)\n"
          ],
          "name": "stderr"
        },
        {
          "output_type": "stream",
          "text": [
            "INFO:tensorflow:*** Available Device: _DeviceAttributes(/job:worker/replica:0/task:0/device:TPU:2, TPU, 0, 0)\n"
          ],
          "name": "stdout"
        },
        {
          "output_type": "stream",
          "text": [
            "INFO:tensorflow:*** Available Device: _DeviceAttributes(/job:worker/replica:0/task:0/device:TPU:2, TPU, 0, 0)\n"
          ],
          "name": "stderr"
        },
        {
          "output_type": "stream",
          "text": [
            "INFO:tensorflow:*** Available Device: _DeviceAttributes(/job:worker/replica:0/task:0/device:TPU:3, TPU, 0, 0)\n"
          ],
          "name": "stdout"
        },
        {
          "output_type": "stream",
          "text": [
            "INFO:tensorflow:*** Available Device: _DeviceAttributes(/job:worker/replica:0/task:0/device:TPU:3, TPU, 0, 0)\n"
          ],
          "name": "stderr"
        },
        {
          "output_type": "stream",
          "text": [
            "INFO:tensorflow:*** Available Device: _DeviceAttributes(/job:worker/replica:0/task:0/device:TPU:4, TPU, 0, 0)\n"
          ],
          "name": "stdout"
        },
        {
          "output_type": "stream",
          "text": [
            "INFO:tensorflow:*** Available Device: _DeviceAttributes(/job:worker/replica:0/task:0/device:TPU:4, TPU, 0, 0)\n"
          ],
          "name": "stderr"
        },
        {
          "output_type": "stream",
          "text": [
            "INFO:tensorflow:*** Available Device: _DeviceAttributes(/job:worker/replica:0/task:0/device:TPU:5, TPU, 0, 0)\n"
          ],
          "name": "stdout"
        },
        {
          "output_type": "stream",
          "text": [
            "INFO:tensorflow:*** Available Device: _DeviceAttributes(/job:worker/replica:0/task:0/device:TPU:5, TPU, 0, 0)\n"
          ],
          "name": "stderr"
        },
        {
          "output_type": "stream",
          "text": [
            "INFO:tensorflow:*** Available Device: _DeviceAttributes(/job:worker/replica:0/task:0/device:TPU:6, TPU, 0, 0)\n"
          ],
          "name": "stdout"
        },
        {
          "output_type": "stream",
          "text": [
            "INFO:tensorflow:*** Available Device: _DeviceAttributes(/job:worker/replica:0/task:0/device:TPU:6, TPU, 0, 0)\n"
          ],
          "name": "stderr"
        },
        {
          "output_type": "stream",
          "text": [
            "INFO:tensorflow:*** Available Device: _DeviceAttributes(/job:worker/replica:0/task:0/device:TPU:7, TPU, 0, 0)\n"
          ],
          "name": "stdout"
        },
        {
          "output_type": "stream",
          "text": [
            "INFO:tensorflow:*** Available Device: _DeviceAttributes(/job:worker/replica:0/task:0/device:TPU:7, TPU, 0, 0)\n"
          ],
          "name": "stderr"
        },
        {
          "output_type": "stream",
          "text": [
            "INFO:tensorflow:*** Available Device: _DeviceAttributes(/job:worker/replica:0/task:0/device:TPU_SYSTEM:0, TPU_SYSTEM, 0, 0)\n"
          ],
          "name": "stdout"
        },
        {
          "output_type": "stream",
          "text": [
            "INFO:tensorflow:*** Available Device: _DeviceAttributes(/job:worker/replica:0/task:0/device:TPU_SYSTEM:0, TPU_SYSTEM, 0, 0)\n"
          ],
          "name": "stderr"
        },
        {
          "output_type": "stream",
          "text": [
            "INFO:tensorflow:*** Available Device: _DeviceAttributes(/job:worker/replica:0/task:0/device:XLA_CPU:0, XLA_CPU, 0, 0)\n"
          ],
          "name": "stdout"
        },
        {
          "output_type": "stream",
          "text": [
            "INFO:tensorflow:*** Available Device: _DeviceAttributes(/job:worker/replica:0/task:0/device:XLA_CPU:0, XLA_CPU, 0, 0)\n"
          ],
          "name": "stderr"
        },
        {
          "output_type": "display_data",
          "data": {
            "application/vnd.jupyter.widget-view+json": {
              "model_id": "bcde71ba9c5e4a19b0648e481aabd1fa",
              "version_minor": 0,
              "version_major": 2
            },
            "text/plain": [
              "HBox(children=(FloatProgress(value=0.0, description='Downloading', max=433.0, style=ProgressStyle(description_…"
            ]
          },
          "metadata": {
            "tags": []
          }
        },
        {
          "output_type": "stream",
          "text": [
            "\n"
          ],
          "name": "stdout"
        },
        {
          "output_type": "display_data",
          "data": {
            "application/vnd.jupyter.widget-view+json": {
              "model_id": "657a2fc9c8cc45ce9bd90e496225d0c0",
              "version_minor": 0,
              "version_major": 2
            },
            "text/plain": [
              "HBox(children=(FloatProgress(value=0.0, description='Downloading', max=536063208.0, style=ProgressStyle(descri…"
            ]
          },
          "metadata": {
            "tags": []
          }
        },
        {
          "output_type": "stream",
          "text": [
            "\n"
          ],
          "name": "stdout"
        },
        {
          "output_type": "stream",
          "text": [
            "Some layers from the model checkpoint at bert-base-uncased were not used when initializing TFBertModel: ['mlm___cls', 'nsp___cls']\n",
            "- This IS expected if you are initializing TFBertModel from the checkpoint of a model trained on another task or with another architecture (e.g. initializing a BertForSequenceClassification model from a BertForPretraining model).\n",
            "- This IS NOT expected if you are initializing TFBertModel from the checkpoint of a model that you expect to be exactly identical (initializing a BertForSequenceClassification model from a BertForSequenceClassification model).\n",
            "All the layers of TFBertModel were initialized from the model checkpoint at bert-base-uncased.\n",
            "If your task is similar to the task the model of the checkpoint was trained on, you can already use TFBertModel for predictions without further training.\n"
          ],
          "name": "stderr"
        },
        {
          "output_type": "stream",
          "text": [
            "Model: \"functional_1\"\n",
            "__________________________________________________________________________________________________\n",
            "Layer (type)                    Output Shape         Param #     Connected to                     \n",
            "==================================================================================================\n",
            "input_1 (InputLayer)            [(None, 384)]        0                                            \n",
            "__________________________________________________________________________________________________\n",
            "input_2 (InputLayer)            [(None, 384)]        0                                            \n",
            "__________________________________________________________________________________________________\n",
            "input_3 (InputLayer)            [(None, 384)]        0                                            \n",
            "__________________________________________________________________________________________________\n",
            "tf_bert_model (TFBertModel)     ((None, 384, 768), ( 109482240   input_1[0][0]                    \n",
            "                                                                 input_2[0][0]                    \n",
            "                                                                 input_3[0][0]                    \n",
            "__________________________________________________________________________________________________\n",
            "dense (Dense)                   (None, 384, 1)       768         tf_bert_model[0][0]              \n",
            "__________________________________________________________________________________________________\n",
            "dense_1 (Dense)                 (None, 384, 1)       768         tf_bert_model[0][0]              \n",
            "__________________________________________________________________________________________________\n",
            "flatten (Flatten)               (None, 384)          0           dense[0][0]                      \n",
            "__________________________________________________________________________________________________\n",
            "flatten_1 (Flatten)             (None, 384)          0           dense_1[0][0]                    \n",
            "__________________________________________________________________________________________________\n",
            "activation_4 (Activation)       (None, 384)          0           flatten[0][0]                    \n",
            "__________________________________________________________________________________________________\n",
            "activation_5 (Activation)       (None, 384)          0           flatten_1[0][0]                  \n",
            "==================================================================================================\n",
            "Total params: 109,483,776\n",
            "Trainable params: 109,483,776\n",
            "Non-trainable params: 0\n",
            "__________________________________________________________________________________________________\n"
          ],
          "name": "stdout"
        }
      ]
    },
    {
      "cell_type": "markdown",
      "metadata": {
        "id": "370gew5DFcC1"
      },
      "source": [
        "## Train and evaluate model on validation data"
      ]
    },
    {
      "cell_type": "code",
      "metadata": {
        "id": "GdnA4iyqv80Y"
      },
      "source": [
        "def normalizeText(text):\n",
        "    # lower case\n",
        "    text = text.lower()\n",
        "    #remove a, an, the \n",
        "    regex = re.compile(r\"\\b(a|an|the)\\b\", re.UNICODE)\n",
        "    text = re.sub(regex, \" \", text)\n",
        "\n",
        "    #remove puctuation\n",
        "    puctuation = set(string.punctuation)\n",
        "    text = \"\".join(_ for _ in text if _ not in puctuation)\n",
        "    #remove extra white spaces\n",
        "    text = \" \".join(text.split())\n",
        "    return text\n",
        "\n",
        "class ExactMatchCallback(tf.keras.callbacks.Callback):\n",
        "    def __init__(self, x_eval, y_eval):\n",
        "        self.x_eval=x_eval\n",
        "        self.y_eval=y_eval\n",
        "\n",
        "    def on_epoch_end(self,epoch,logs=None):\n",
        "        pred_start, pred_end = self.model.predict(self.x_eval)\n",
        "        valid_examples = [_ for _ in sQUADEval if _.validExample]\n",
        "        counter = 0\n",
        "        for idx, (start,end) in enumerate(zip(pred_start, pred_end)):\n",
        "            squadV = valid_examples[idx]\n",
        "            #start and end is max_len-demensionality vector.\n",
        "            token_idx_start = np.argmax(start)\n",
        "            token_idx_end = np.argmax(end)\n",
        "            if (token_idx_start >= len(squadV.offsets)):\n",
        "                continue\n",
        "            # start and end indices in context\n",
        "            start_char_idx = squadV.offsets[token_idx_start][0]\n",
        "    \n",
        "            #predicted answer\n",
        "            if (token_idx_end < len(squadV.offsets)):\n",
        "                end_char_idx = squadV.offsets[token_idx_end][1]\n",
        "                predictedAnswer = squadV.context[start_char_idx:end_char_idx]\n",
        "            else:\n",
        "                predictedAnswer = squadV.context[start_char_idx:]\n",
        "            #normalize texts to check similarity with the other available answers\n",
        "            available_answers = [normalizeText(_) for _ in squadV.more_answers]\n",
        "            predictedAnswer = normalizeText(predictedAnswer)\n",
        "            #Check for similarity of answers\n",
        "            if (predictedAnswer in available_answers):\n",
        "                counter+=1\n",
        "        acc = counter/len(self.y_eval[0])\n",
        "        print()\n",
        "        print(\"Exact Match: \", acc)    \n",
        "\n"
      ],
      "execution_count": 11,
      "outputs": []
    },
    {
      "cell_type": "code",
      "metadata": {
        "id": "Itw9n_lF243Z",
        "outputId": "1df36579-db1d-477c-f612-d3d1b31b3c17",
        "colab": {
          "base_uri": "https://localhost:8080/"
        }
      },
      "source": [
        "model.fit(x=XTrain, y=YTrain, batch_size= 64, epochs=3, verbose=1, callbacks=[ExactMatchCallback(XEval,YEval)])\n"
      ],
      "execution_count": 12,
      "outputs": [
        {
          "output_type": "stream",
          "text": [
            "Epoch 1/3\n",
            "WARNING:tensorflow:From /usr/local/lib/python3.6/dist-packages/tensorflow/python/data/ops/multi_device_iterator_ops.py:601: get_next_as_optional (from tensorflow.python.data.ops.iterator_ops) is deprecated and will be removed in a future version.\n",
            "Instructions for updating:\n",
            "Use `tf.data.Iterator.get_next_as_optional()` instead.\n"
          ],
          "name": "stdout"
        },
        {
          "output_type": "stream",
          "text": [
            "WARNING:tensorflow:From /usr/local/lib/python3.6/dist-packages/tensorflow/python/data/ops/multi_device_iterator_ops.py:601: get_next_as_optional (from tensorflow.python.data.ops.iterator_ops) is deprecated and will be removed in a future version.\n",
            "Instructions for updating:\n",
            "Use `tf.data.Iterator.get_next_as_optional()` instead.\n"
          ],
          "name": "stderr"
        },
        {
          "output_type": "stream",
          "text": [
            "WARNING:tensorflow:Gradients do not exist for variables ['tf_bert_model/bert/pooler/dense/kernel:0', 'tf_bert_model/bert/pooler/dense/bias:0'] when minimizing the loss.\n"
          ],
          "name": "stdout"
        },
        {
          "output_type": "stream",
          "text": [
            "WARNING:tensorflow:Gradients do not exist for variables ['tf_bert_model/bert/pooler/dense/kernel:0', 'tf_bert_model/bert/pooler/dense/bias:0'] when minimizing the loss.\n"
          ],
          "name": "stderr"
        },
        {
          "output_type": "stream",
          "text": [
            "WARNING:tensorflow:Gradients do not exist for variables ['tf_bert_model/bert/pooler/dense/kernel:0', 'tf_bert_model/bert/pooler/dense/bias:0'] when minimizing the loss.\n"
          ],
          "name": "stdout"
        },
        {
          "output_type": "stream",
          "text": [
            "WARNING:tensorflow:Gradients do not exist for variables ['tf_bert_model/bert/pooler/dense/kernel:0', 'tf_bert_model/bert/pooler/dense/bias:0'] when minimizing the loss.\n"
          ],
          "name": "stderr"
        },
        {
          "output_type": "stream",
          "text": [
            "WARNING:tensorflow:Gradients do not exist for variables ['tf_bert_model/bert/pooler/dense/kernel:0', 'tf_bert_model/bert/pooler/dense/bias:0'] when minimizing the loss.\n"
          ],
          "name": "stdout"
        },
        {
          "output_type": "stream",
          "text": [
            "WARNING:tensorflow:Gradients do not exist for variables ['tf_bert_model/bert/pooler/dense/kernel:0', 'tf_bert_model/bert/pooler/dense/bias:0'] when minimizing the loss.\n"
          ],
          "name": "stderr"
        },
        {
          "output_type": "stream",
          "text": [
            "WARNING:tensorflow:Gradients do not exist for variables ['tf_bert_model/bert/pooler/dense/kernel:0', 'tf_bert_model/bert/pooler/dense/bias:0'] when minimizing the loss.\n"
          ],
          "name": "stdout"
        },
        {
          "output_type": "stream",
          "text": [
            "WARNING:tensorflow:Gradients do not exist for variables ['tf_bert_model/bert/pooler/dense/kernel:0', 'tf_bert_model/bert/pooler/dense/bias:0'] when minimizing the loss.\n"
          ],
          "name": "stderr"
        },
        {
          "output_type": "stream",
          "text": [
            "   2/1346 [..............................] - ETA: 2:37 - loss: 11.7489 - activation_4_loss: 6.0357 - activation_5_loss: 5.7132WARNING:tensorflow:Callbacks method `on_train_batch_end` is slow compared to the batch time (batch time: 0.0138s vs `on_train_batch_end` time: 0.2145s). Check your callbacks.\n"
          ],
          "name": "stdout"
        },
        {
          "output_type": "stream",
          "text": [
            "WARNING:tensorflow:Callbacks method `on_train_batch_end` is slow compared to the batch time (batch time: 0.0138s vs `on_train_batch_end` time: 0.2145s). Check your callbacks.\n"
          ],
          "name": "stderr"
        },
        {
          "output_type": "stream",
          "text": [
            "1346/1346 [==============================] - ETA: 0s - loss: 2.5607 - activation_4_loss: 1.3351 - activation_5_loss: 1.2255\n",
            "Exact Match:  0.7790146162036589\n",
            "1346/1346 [==============================] - 363s 270ms/step - loss: 2.5607 - activation_4_loss: 1.3351 - activation_5_loss: 1.2255\n",
            "Epoch 2/3\n",
            "1346/1346 [==============================] - ETA: 0s - loss: 1.5583 - activation_4_loss: 0.8285 - activation_5_loss: 0.7298\n",
            "Exact Match:  0.7906301422901946\n",
            "1346/1346 [==============================] - 315s 234ms/step - loss: 1.5583 - activation_4_loss: 0.8285 - activation_5_loss: 0.7298\n",
            "Epoch 3/3\n",
            "1346/1346 [==============================] - ETA: 0s - loss: 1.1026 - activation_4_loss: 0.5924 - activation_5_loss: 0.5102\n",
            "Exact Match:  0.784338398993321\n",
            "1346/1346 [==============================] - 315s 234ms/step - loss: 1.1026 - activation_4_loss: 0.5924 - activation_5_loss: 0.5102\n"
          ],
          "name": "stdout"
        },
        {
          "output_type": "execute_result",
          "data": {
            "text/plain": [
              "<tensorflow.python.keras.callbacks.History at 0x7f46114c5e48>"
            ]
          },
          "metadata": {
            "tags": []
          },
          "execution_count": 12
        }
      ]
    }
  ]
}